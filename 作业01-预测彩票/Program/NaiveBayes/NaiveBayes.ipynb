{
 "cells": [
  {
   "cell_type": "markdown",
   "metadata": {},
   "source": [
    "本方法假设的是双色球的摇取不是随机的，而是符合球号从小到大的一定规律的，也就是说如果把双色球的号码从小到大排列，6个红球是一个中奖号码的特征（暂不考虑蓝球） 基本的想法是从朴素贝叶斯中得出的，朴素贝叶斯是基于特征条件独立假设学习输入\\输出的联合概率分布，我们也假设双色球的抽取满足从小到大的号码之间的抽取互不干扰。 具体是用极大似然估计法估计后验概率，并对后验概率取对数防止乘数过小，加入了贝叶斯估计，其中取lamda = 1的拉普拉斯平滑，然后取最大化后验概率的解当作我们的预测。"
   ]
  },
  {
   "cell_type": "code",
   "execution_count": 1,
   "metadata": {
    "collapsed": true
   },
   "outputs": [],
   "source": [
    "import numpy as np\n",
    "import math as math"
   ]
  },
  {
   "cell_type": "markdown",
   "metadata": {},
   "source": [
    "读入数据，只考虑从小到大的6个红球分别为朴素贝叶斯的6个特征"
   ]
  },
  {
   "cell_type": "code",
   "execution_count": 2,
   "metadata": {},
   "outputs": [],
   "source": [
    "f = open(\"data.txt\", \"r\")\n",
    "firstline = f.readline()\n",
    "file = f.readlines()\n",
    "l = len(file)\n",
    "a = np.zeros((l, 6))\n",
    "for i in range(l):\n",
    "    a[i] = file[i].split()[2:8]\n",
    "#print a[0]\n",
    "a = a.astype(np.int32)\n",
    "#print a[0]\n",
    "#print a.dtype\n",
    "f.close()"
   ]
  },
  {
   "cell_type": "markdown",
   "metadata": {},
   "source": [
    "计算后验概率"
   ]
  },
  {
   "cell_type": "code",
   "execution_count": 3,
   "metadata": {},
   "outputs": [],
   "source": [
    "N = a.shape[0]\n",
    "#print N\n",
    "pro = np.zeros((6, 33))\n",
    "#print pro.shape\n",
    "for i in range(N):\n",
    "    for j in range(6):\n",
    "        pro[j][a[i][j] - 1] += 1\n",
    "        \n",
    "#加入拉普拉斯平滑\n",
    "pro = (pro + 1)/ (N + 33)\n",
    "\n",
    "#取对数，防止乘数过小\n",
    "\n",
    "pro = np.log(pro)\n",
    "#num = 0\n",
    "#for i in xrange(33):\n",
    "#    num += pro[0][i]\n",
    "#print num\n",
    "#print pro[0][0] + p"
   ]
  },
  {
   "cell_type": "code",
   "execution_count": 4,
   "metadata": {},
   "outputs": [
    {
     "data": {
      "text/plain": [
       "array([-6.41999493, -6.41999493, -6.41999493, -6.41999493, -6.41999493,\n",
       "       -6.41999493, -6.41999493, -6.41999493, -6.41999493, -6.41999493,\n",
       "       -6.41999493, -6.41999493, -6.41999493, -6.41999493, -5.72684775,\n",
       "       -4.81055702, -5.32138264, -5.03370057, -5.72684775, -3.93508828,\n",
       "       -4.22277035, -3.52962317, -4.11740984, -3.37547249, -3.01879755,\n",
       "       -2.92348737, -2.61333244, -2.70642286, -2.17149969, -2.4881693 ,\n",
       "       -2.21530231, -1.89820635, -1.97734367])"
      ]
     },
     "execution_count": 4,
     "metadata": {},
     "output_type": "execute_result"
    }
   ],
   "source": [
    "pro[5]"
   ]
  },
  {
   "cell_type": "markdown",
   "metadata": {},
   "source": [
    "计算概率最大的,从小到大枚举红球"
   ]
  },
  {
   "cell_type": "code",
   "execution_count": 5,
   "metadata": {},
   "outputs": [],
   "source": [
    "ans = [0, 0, 0, 0, 0, 0]\n",
    "max_pro = -1000000000000000000000\n",
    "for i in range(33):\n",
    "    for j in range(i + 1, 33):\n",
    "        for k in range(j + 1, 33):\n",
    "            for a in range(k + 1, 33):\n",
    "                for b in range(a + 1, 33):\n",
    "                    for c in range(b + 1, 33):\n",
    "                        tmp = pro[0][i] + pro[1][j] + pro[2][k] + pro[3][a] + pro[4][b] + pro[5][c]\n",
    "                        if tmp > max_pro:\n",
    "                            max_pro = tmp\n",
    "                            ans = [i + 1, j + 1, k + 1, a + 1, b + 1, c + 1]\n"
   ]
  },
  {
   "cell_type": "markdown",
   "metadata": {},
   "source": [
    "输出答案"
   ]
  },
  {
   "cell_type": "code",
   "execution_count": 6,
   "metadata": {},
   "outputs": [
    {
     "name": "stdout",
     "output_type": "stream",
     "text": [
      "预测选取红球  [1, 6, 14, 17, 26, 32]\n",
      "中奖概率为  1.4122491642615187e-06\n"
     ]
    }
   ],
   "source": [
    "print(\"预测选取红球 \",ans)\n",
    "print(\"中奖概率为 \",math.exp(max_pro))"
   ]
  }
 ],
 "metadata": {
  "kernelspec": {
   "display_name": "Python 3",
   "language": "python",
   "name": "python3"
  },
  "language_info": {
   "codemirror_mode": {
    "name": "ipython",
    "version": 3
   },
   "file_extension": ".py",
   "mimetype": "text/x-python",
   "name": "python",
   "nbconvert_exporter": "python",
   "pygments_lexer": "ipython3",
   "version": "3.6.1"
  }
 },
 "nbformat": 4,
 "nbformat_minor": 2
}
