{
 "cells": [
  {
   "cell_type": "markdown",
   "metadata": {},
   "source": [
    "### 导入数据"
   ]
  },
  {
   "cell_type": "code",
   "execution_count": 1,
   "metadata": {},
   "outputs": [
    {
     "data": {
      "text/html": [
       "<div>\n",
       "<style>\n",
       "    .dataframe thead tr:only-child th {\n",
       "        text-align: right;\n",
       "    }\n",
       "\n",
       "    .dataframe thead th {\n",
       "        text-align: left;\n",
       "    }\n",
       "\n",
       "    .dataframe tbody tr th {\n",
       "        vertical-align: top;\n",
       "    }\n",
       "</style>\n",
       "<table border=\"1\" class=\"dataframe\">\n",
       "  <thead>\n",
       "    <tr style=\"text-align: right;\">\n",
       "      <th></th>\n",
       "      <th>No</th>\n",
       "      <th>M</th>\n",
       "      <th>R1</th>\n",
       "      <th>R2</th>\n",
       "      <th>R3</th>\n",
       "      <th>R4</th>\n",
       "      <th>R5</th>\n",
       "      <th>R6</th>\n",
       "      <th>B</th>\n",
       "    </tr>\n",
       "  </thead>\n",
       "  <tbody>\n",
       "    <tr>\n",
       "      <th>0</th>\n",
       "      <td>2013001</td>\n",
       "      <td>2</td>\n",
       "      <td>6</td>\n",
       "      <td>8</td>\n",
       "      <td>14</td>\n",
       "      <td>15</td>\n",
       "      <td>24</td>\n",
       "      <td>25</td>\n",
       "      <td>6</td>\n",
       "    </tr>\n",
       "    <tr>\n",
       "      <th>1</th>\n",
       "      <td>2013002</td>\n",
       "      <td>3</td>\n",
       "      <td>1</td>\n",
       "      <td>16</td>\n",
       "      <td>18</td>\n",
       "      <td>22</td>\n",
       "      <td>28</td>\n",
       "      <td>30</td>\n",
       "      <td>12</td>\n",
       "    </tr>\n",
       "    <tr>\n",
       "      <th>2</th>\n",
       "      <td>2013003</td>\n",
       "      <td>1</td>\n",
       "      <td>22</td>\n",
       "      <td>23</td>\n",
       "      <td>26</td>\n",
       "      <td>27</td>\n",
       "      <td>28</td>\n",
       "      <td>33</td>\n",
       "      <td>9</td>\n",
       "    </tr>\n",
       "    <tr>\n",
       "      <th>3</th>\n",
       "      <td>2013004</td>\n",
       "      <td>4</td>\n",
       "      <td>6</td>\n",
       "      <td>10</td>\n",
       "      <td>16</td>\n",
       "      <td>20</td>\n",
       "      <td>27</td>\n",
       "      <td>32</td>\n",
       "      <td>8</td>\n",
       "    </tr>\n",
       "    <tr>\n",
       "      <th>4</th>\n",
       "      <td>2013005</td>\n",
       "      <td>3</td>\n",
       "      <td>1</td>\n",
       "      <td>13</td>\n",
       "      <td>14</td>\n",
       "      <td>25</td>\n",
       "      <td>31</td>\n",
       "      <td>32</td>\n",
       "      <td>12</td>\n",
       "    </tr>\n",
       "    <tr>\n",
       "      <th>5</th>\n",
       "      <td>2013006</td>\n",
       "      <td>1</td>\n",
       "      <td>9</td>\n",
       "      <td>10</td>\n",
       "      <td>13</td>\n",
       "      <td>17</td>\n",
       "      <td>22</td>\n",
       "      <td>30</td>\n",
       "      <td>13</td>\n",
       "    </tr>\n",
       "    <tr>\n",
       "      <th>6</th>\n",
       "      <td>2013007</td>\n",
       "      <td>4</td>\n",
       "      <td>2</td>\n",
       "      <td>9</td>\n",
       "      <td>15</td>\n",
       "      <td>22</td>\n",
       "      <td>26</td>\n",
       "      <td>32</td>\n",
       "      <td>1</td>\n",
       "    </tr>\n",
       "    <tr>\n",
       "      <th>7</th>\n",
       "      <td>2013008</td>\n",
       "      <td>4</td>\n",
       "      <td>3</td>\n",
       "      <td>8</td>\n",
       "      <td>17</td>\n",
       "      <td>21</td>\n",
       "      <td>25</td>\n",
       "      <td>32</td>\n",
       "      <td>15</td>\n",
       "    </tr>\n",
       "    <tr>\n",
       "      <th>8</th>\n",
       "      <td>2013009</td>\n",
       "      <td>2</td>\n",
       "      <td>1</td>\n",
       "      <td>4</td>\n",
       "      <td>9</td>\n",
       "      <td>13</td>\n",
       "      <td>16</td>\n",
       "      <td>23</td>\n",
       "      <td>2</td>\n",
       "    </tr>\n",
       "    <tr>\n",
       "      <th>9</th>\n",
       "      <td>2013010</td>\n",
       "      <td>2</td>\n",
       "      <td>1</td>\n",
       "      <td>9</td>\n",
       "      <td>11</td>\n",
       "      <td>17</td>\n",
       "      <td>32</td>\n",
       "      <td>33</td>\n",
       "      <td>12</td>\n",
       "    </tr>\n",
       "  </tbody>\n",
       "</table>\n",
       "</div>"
      ],
      "text/plain": [
       "        No  M  R1  R2  R3  R4  R5  R6   B\n",
       "0  2013001  2   6   8  14  15  24  25   6\n",
       "1  2013002  3   1  16  18  22  28  30  12\n",
       "2  2013003  1  22  23  26  27  28  33   9\n",
       "3  2013004  4   6  10  16  20  27  32   8\n",
       "4  2013005  3   1  13  14  25  31  32  12\n",
       "5  2013006  1   9  10  13  17  22  30  13\n",
       "6  2013007  4   2   9  15  22  26  32   1\n",
       "7  2013008  4   3   8  17  21  25  32  15\n",
       "8  2013009  2   1   4   9  13  16  23   2\n",
       "9  2013010  2   1   9  11  17  32  33  12"
      ]
     },
     "execution_count": 1,
     "metadata": {},
     "output_type": "execute_result"
    }
   ],
   "source": [
    "import numpy as np\n",
    "import pandas as pd\n",
    "import matplotlib.pyplot as plt\n",
    "%matplotlib inline\n",
    "\n",
    "df = pd.read_table('data2.TXT')\n",
    "df.head(10)"
   ]
  },
  {
   "cell_type": "code",
   "execution_count": 2,
   "metadata": {
    "scrolled": false
   },
   "outputs": [
    {
     "data": {
      "text/plain": [
       "array([[2013001,       2,       6, ...,      24,      25,       6],\n",
       "       [2013002,       3,       1, ...,      28,      30,      12],\n",
       "       [2013003,       1,      22, ...,      28,      33,       9],\n",
       "       ..., \n",
       "       [2016119,       1,       9, ...,      31,      32,       4],\n",
       "       [2016120,       2,       2, ...,      25,      28,       9],\n",
       "       [2016121,       3,       2, ...,      25,      28,       9]], dtype=int64)"
      ]
     },
     "execution_count": 2,
     "metadata": {},
     "output_type": "execute_result"
    }
   ],
   "source": [
    "DT = df.get_values()\n",
    "DT"
   ]
  },
  {
   "cell_type": "markdown",
   "metadata": {},
   "source": [
    "### 红球各数字概率分布图"
   ]
  },
  {
   "cell_type": "code",
   "execution_count": 3,
   "metadata": {
    "scrolled": false
   },
   "outputs": [
    {
     "data": {
      "image/png": "[encoded data removed]",
      "text/plain": [
       "<matplotlib.figure.Figure at 0x1b0b19e6f28>"
      ]
     },
     "metadata": {},
     "output_type": "display_data"
    }
   ],
   "source": [
    "X = np.linspace(1,33,33)\n",
    "R = ['R1', 'R2', 'R3', 'R4', 'R5', 'R6']\n",
    "Count = np.zeros(max(df['R6'])+1)\n",
    "len(Count)\n",
    "for i in range(len(df)):\n",
    "    for r in R:\n",
    "        Count[df.iloc[i][r]] += 1\n",
    "        \n",
    "P_Count = Count[1:]/581\n",
    "plt.figure(figsize=(10,6))\n",
    "plt.plot(X, P_Count, '-o');"
   ]
  },
  {
   "cell_type": "markdown",
   "metadata": {},
   "source": [
    "### 转移统计矩阵"
   ]
  },
  {
   "cell_type": "code",
   "execution_count": 4,
   "metadata": {},
   "outputs": [
    {
     "data": {
      "text/plain": [
       "array([[  0.,   0.,   0., ...,   0.,   0.,   0.],\n",
       "       [  0.,  25.,  22., ...,  24.,  22.,  16.],\n",
       "       [  0.,  29.,  18., ...,  12.,  24.,  15.],\n",
       "       ..., \n",
       "       [  0.,  16.,  23., ...,  18.,  23.,  14.],\n",
       "       [  0.,  23.,  23., ...,  17.,  22.,  13.],\n",
       "       [  0.,  17.,  17., ...,  22.,  16.,  16.]])"
      ]
     },
     "execution_count": 4,
     "metadata": {},
     "output_type": "execute_result"
    }
   ],
   "source": [
    "n = len(DT)\n",
    "P = np.zeros(34*34).reshape((34,34))\n",
    "\n",
    "for i in range(1,len(DT)):\n",
    "    L = DT[i, 2:8]\n",
    "    L_pre = DT[i-1, 2:8]\n",
    "    for j in range(2,8):\n",
    "        x = DT[i-1,j]\n",
    "        for k in range(2,8):\n",
    "            y = DT[i,k]\n",
    "            P[x,y] += 1\n",
    "P"
   ]
  },
  {
   "cell_type": "markdown",
   "metadata": {},
   "source": [
    "### 马尔可夫转移概率矩阵"
   ]
  },
  {
   "cell_type": "code",
   "execution_count": 5,
   "metadata": {
    "scrolled": false
   },
   "outputs": [
    {
     "data": {
      "text/plain": [
       "array([[ 0.        ,  0.        ,  0.        , ...,  0.        ,\n",
       "         0.        ,  0.        ],\n",
       "       [ 0.        ,  0.03654971,  0.03216374, ...,  0.03508772,\n",
       "         0.03216374,  0.02339181],\n",
       "       [ 0.        ,  0.04517134,  0.02803738, ...,  0.01869159,\n",
       "         0.03738318,  0.02336449],\n",
       "       ..., \n",
       "       [ 0.        ,  0.02836879,  0.04078014, ...,  0.03191489,\n",
       "         0.04078014,  0.0248227 ],\n",
       "       [ 0.        ,  0.03484848,  0.03484848, ...,  0.02575758,\n",
       "         0.03333333,  0.01969697],\n",
       "       [ 0.        ,  0.03373016,  0.03373016, ...,  0.04365079,\n",
       "         0.03174603,  0.03174603]])"
      ]
     },
     "execution_count": 5,
     "metadata": {},
     "output_type": "execute_result"
    }
   ],
   "source": [
    "PP = np.zeros(34*34).reshape((34,34))\n",
    "for i in range(1,34):\n",
    "    S = np.sum(P[i])\n",
    "    #for j in range(1,34):\n",
    "    PP[i,:] = P[i,:]/S\n",
    "    \n",
    "PP"
   ]
  },
  {
   "cell_type": "markdown",
   "metadata": {},
   "source": [
    "### 根据最近一期进行预测"
   ]
  },
  {
   "cell_type": "code",
   "execution_count": 6,
   "metadata": {},
   "outputs": [
    {
     "data": {
      "text/plain": [
       "array([ 2,  3, 10, 23, 25, 28], dtype=int64)"
      ]
     },
     "execution_count": 6,
     "metadata": {},
     "output_type": "execute_result"
    }
   ],
   "source": [
    "# 最近一期红球号\n",
    "L_now = DT[-1, 2:8]\n",
    "L_now"
   ]
  },
  {
   "cell_type": "code",
   "execution_count": 7,
   "metadata": {},
   "outputs": [
    {
     "data": {
      "text/plain": [
       "[1, 22, 14, 10, 19, 2]"
      ]
     },
     "execution_count": 7,
     "metadata": {},
     "output_type": "execute_result"
    }
   ],
   "source": [
    "# 根据马尔科夫转移概率最大化预测\n",
    "L_predict = []\n",
    "for i in range(6):\n",
    "    x = L_now[i]\n",
    "    y = np.argmax(PP[x])\n",
    "    while y in L_predict:\n",
    "        PP[x,y] = 0\n",
    "        y = np.argmax(PP[x])\n",
    "    L_predict.append(y)\n",
    "\n",
    "L_predict"
   ]
  },
  {
   "cell_type": "code",
   "execution_count": 8,
   "metadata": {
    "scrolled": true
   },
   "outputs": [
    {
     "data": {
      "text/plain": [
       "[1, 2, 10, 14, 19, 22]"
      ]
     },
     "execution_count": 8,
     "metadata": {},
     "output_type": "execute_result"
    }
   ],
   "source": [
    "# 结果排序\n",
    "L_predict.sort()\n",
    "L_predict"
   ]
  },
  {
   "cell_type": "markdown",
   "metadata": {},
   "source": [
    "### 结果数据导出函数"
   ]
  },
  {
   "cell_type": "code",
   "execution_count": 9,
   "metadata": {
    "collapsed": true
   },
   "outputs": [],
   "source": [
    "def Output(L, file):\n",
    "    fout = open(file, 'w')\n",
    "    fout.write('期号\\t套球号\\t红球1\\t红球2\\t红球3\\t红球4\\t红球5\\t红球6\\t蓝球\\n')\n",
    "    \n",
    "    t = np.random.randint(1,5)\n",
    "    b = np.random.randint(1,17)\n",
    "    fout.write('2016122\\t' + str(t) + '\\t')\n",
    "    \n",
    "    for i in range(len(L)):\n",
    "        fout.write(str(L[i]) + '\\t')\n",
    "    fout.write(str(b) + '\\n')\n",
    "    \n",
    "    print(\"数据成功导出到文件中\")\n",
    "    fout.close()"
   ]
  },
  {
   "cell_type": "code",
   "execution_count": 10,
   "metadata": {},
   "outputs": [
    {
     "name": "stdout",
     "output_type": "stream",
     "text": [
      "数据成功导出到文件中\n"
     ]
    }
   ],
   "source": [
    "file = './Out3.txt'\n",
    "Output(L_predict, file)"
   ]
  }
 ],
 "metadata": {
  "kernelspec": {
   "display_name": "Python 3",
   "language": "python",
   "name": "python3"
  },
  "language_info": {
   "codemirror_mode": {
    "name": "ipython",
    "version": 3
   },
   "file_extension": ".py",
   "mimetype": "text/x-python",
   "name": "python",
   "nbconvert_exporter": "python",
   "pygments_lexer": "ipython3",
   "version": "3.6.1"
  }
 },
 "nbformat": 4,
 "nbformat_minor": 2
}
