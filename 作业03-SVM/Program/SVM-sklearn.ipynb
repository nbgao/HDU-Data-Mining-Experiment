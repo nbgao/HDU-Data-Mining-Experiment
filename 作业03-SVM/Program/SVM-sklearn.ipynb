{
 "cells": [
  {
   "cell_type": "markdown",
   "metadata": {},
   "source": [
    "## 数据导入"
   ]
  },
  {
   "cell_type": "code",
   "execution_count": 59,
   "metadata": {
    "collapsed": true
   },
   "outputs": [],
   "source": [
    "import numpy as np\n",
    "import pandas as pd\n",
    "import matplotlib.pyplot as plt\n",
    "import sklearn\n",
    "\n",
    "\n",
    "df_X = pd.read_table('./DLBCL_data_6285_77.txt', header=None)\n",
    "feature = df_X.get_values().T\n",
    "\n",
    "df_y = pd.read_table('./dlbcl_label.txt', header=None, sep=' ')\n",
    "label = df_y.get_values()[0]"
   ]
  },
  {
   "cell_type": "code",
   "execution_count": 60,
   "metadata": {
    "scrolled": true
   },
   "outputs": [
    {
     "data": {
      "text/plain": [
       "array([[ 20,  59,  20, ..., 366,  20,  76],\n",
       "       [ 20, 267, 578, ...,  81,  20,  41],\n",
       "       [ 20,  88,  20, ..., 450,  38, 164],\n",
       "       ..., \n",
       "       [ 20, 200,  20, ...,  20,  20,  20],\n",
       "       [ 20, 190,  20, ..., 157,  20,  20],\n",
       "       [ 20, 135,  20, ..., 714,  20, 370]], dtype=int64)"
      ]
     },
     "execution_count": 60,
     "metadata": {},
     "output_type": "execute_result"
    }
   ],
   "source": [
    "feature"
   ]
  },
  {
   "cell_type": "code",
   "execution_count": 61,
   "metadata": {
    "scrolled": false
   },
   "outputs": [
    {
     "data": {
      "text/plain": [
       "array([1, 1, 1, 1, 1, 1, 1, 1, 1, 1, 1, 1, 1, 1, 1, 1, 1, 1, 1, 1, 1, 1, 1,\n",
       "       1, 1, 1, 1, 1, 1, 1, 1, 1, 1, 1, 1, 1, 1, 1, 1, 1, 1, 1, 1, 1, 1, 1,\n",
       "       1, 1, 1, 1, 1, 1, 1, 1, 1, 1, 1, 1, 2, 2, 2, 2, 2, 2, 2, 2, 2, 2, 2,\n",
       "       2, 2, 2, 2, 2, 2, 2, 2], dtype=int64)"
      ]
     },
     "execution_count": 61,
     "metadata": {},
     "output_type": "execute_result"
    }
   ],
   "source": [
    "label"
   ]
  },
  {
   "cell_type": "code",
   "execution_count": 62,
   "metadata": {},
   "outputs": [
    {
     "data": {
      "text/plain": [
       "(77, 6285)"
      ]
     },
     "execution_count": 62,
     "metadata": {},
     "output_type": "execute_result"
    }
   ],
   "source": [
    "n, m = np.shape(feature)\n",
    "n, m"
   ]
  },
  {
   "cell_type": "code",
   "execution_count": 63,
   "metadata": {
    "scrolled": true
   },
   "outputs": [
    {
     "data": {
      "text/plain": [
       "array([ 1,  1,  1,  1,  1,  1,  1,  1,  1,  1,  1,  1,  1,  1,  1,  1,  1,\n",
       "        1,  1,  1,  1,  1,  1,  1,  1,  1,  1,  1,  1,  1,  1,  1,  1,  1,\n",
       "        1,  1,  1,  1,  1,  1,  1,  1,  1,  1,  1,  1,  1,  1,  1,  1,  1,\n",
       "        1,  1,  1,  1,  1,  1,  1, -1, -1, -1, -1, -1, -1, -1, -1, -1, -1,\n",
       "       -1, -1, -1, -1, -1, -1, -1, -1, -1], dtype=int64)"
      ]
     },
     "execution_count": 63,
     "metadata": {},
     "output_type": "execute_result"
    }
   ],
   "source": [
    "for i in range(n):\n",
    "    if label[i]==2:\n",
    "        label[i] = -1\n",
    "label"
   ]
  },
  {
   "cell_type": "markdown",
   "metadata": {},
   "source": [
    "### 非对数化训练结果"
   ]
  },
  {
   "cell_type": "code",
   "execution_count": 47,
   "metadata": {},
   "outputs": [
    {
     "name": "stderr",
     "output_type": "stream",
     "text": [
      "D:\\Program Soft\\Anaconda\\Anaconda3\\lib\\site-packages\\sklearn\\utils\\validation.py:429: DataConversionWarning: Data with input dtype int64 was converted to float64 by StandardScaler.\n",
      "  warnings.warn(msg, _DataConversionWarning)\n"
     ]
    },
    {
     "name": "stdout",
     "output_type": "stream",
     "text": [
      "1: accuracy: 1.0\n",
      "2: accuracy: 1.0\n",
      "3: accuracy: 1.0\n",
      "4: accuracy: 1.0\n",
      "5: accuracy: 1.0\n",
      "6: accuracy: 1.0\n",
      "7: accuracy: 1.0\n",
      "8: accuracy: 1.0\n",
      "9: accuracy: 1.0\n",
      "10: accuracy: 1.0\n",
      "11: accuracy: 1.0\n",
      "12: accuracy: 1.0\n",
      "13: accuracy: 1.0\n",
      "14: accuracy: 1.0\n",
      "15: accuracy: 1.0\n",
      "16: accuracy: 1.0\n",
      "17: accuracy: 1.0\n",
      "18: accuracy: 1.0\n",
      "19: accuracy: 1.0\n",
      "20: accuracy: 1.0\n",
      "21: accuracy: 1.0\n",
      "22: accuracy: 1.0\n",
      "23: accuracy: 1.0\n",
      "24: accuracy: 1.0\n",
      "25: accuracy: 1.0\n",
      "26: accuracy: 1.0\n",
      "27: accuracy: 1.0\n",
      "28: accuracy: 1.0\n",
      "29: accuracy: 0.0\n",
      "30: accuracy: 1.0\n",
      "31: accuracy: 1.0\n",
      "32: accuracy: 1.0\n",
      "33: accuracy: 1.0\n",
      "34: accuracy: 1.0\n",
      "35: accuracy: 1.0\n",
      "36: accuracy: 1.0\n",
      "37: accuracy: 1.0\n",
      "38: accuracy: 1.0\n",
      "39: accuracy: 1.0\n",
      "40: accuracy: 1.0\n",
      "41: accuracy: 1.0\n",
      "42: accuracy: 1.0\n",
      "43: accuracy: 1.0\n",
      "44: accuracy: 1.0\n",
      "45: accuracy: 1.0\n",
      "46: accuracy: 1.0\n",
      "47: accuracy: 1.0\n",
      "48: accuracy: 1.0\n",
      "49: accuracy: 1.0\n",
      "50: accuracy: 1.0\n",
      "51: accuracy: 1.0\n",
      "52: accuracy: 1.0\n",
      "53: accuracy: 1.0\n",
      "54: accuracy: 1.0\n",
      "55: accuracy: 1.0\n",
      "56: accuracy: 1.0\n",
      "57: accuracy: 1.0\n",
      "58: accuracy: 1.0\n",
      "59: accuracy: 1.0\n",
      "60: accuracy: 1.0\n",
      "61: accuracy: 1.0\n",
      "62: accuracy: 1.0\n",
      "63: accuracy: 1.0\n",
      "64: accuracy: 1.0\n",
      "65: accuracy: 1.0\n",
      "66: accuracy: 1.0\n",
      "67: accuracy: 0.0\n",
      "68: accuracy: 0.0\n",
      "69: accuracy: 1.0\n",
      "70: accuracy: 1.0\n",
      "71: accuracy: 1.0\n",
      "72: accuracy: 1.0\n",
      "73: accuracy: 1.0\n",
      "74: accuracy: 1.0\n",
      "75: accuracy: 1.0\n",
      "76: accuracy: 1.0\n",
      "77: accuracy: 1.0\n",
      "\n",
      "正确率: 74/77 = 96.1039%\n",
      "错误率:  3/77 = 3.8961%\n"
     ]
    }
   ],
   "source": [
    "from sklearn.preprocessing import StandardScaler\n",
    "from sklearn import cross_validation\n",
    "from sklearn import svm\n",
    "\n",
    "def SVM_Train(feature, label, kernel):\n",
    "    n, m = np.shape(feature)\n",
    "\n",
    "    ss = StandardScaler()\n",
    "    feature_ss = ss.fit_transform(feature)\n",
    "\n",
    "    acc_sum = 0\n",
    "    k = 1\n",
    "\n",
    "    cv = cross_validation.LeaveOneOut(n=len(feature_ss))\n",
    "    for train_index, test_index in cv:\n",
    "        feature_train, feature_test = feature_ss[train_index,:], feature_ss[test_index,:]\n",
    "        label_train, label_test = label[train_index], label[test_index]\n",
    "\n",
    "        svm_model = svm.SVC(kernel=kernel)\n",
    "        svm_model.fit(feature_train, label_train)\n",
    "        label_predict = svm_model.predict(feature_test)\n",
    "\n",
    "        acc = svm_model.score(feature_test, label_test)\n",
    "        print(\"%s: accuracy: %s\" % (k,acc))\n",
    "        acc_sum += acc\n",
    "\n",
    "        k += 1\n",
    "\n",
    "    acc_average = acc_sum/n\n",
    "    print('\\n正确率: %d/%d = %.4f%%' % (acc_sum, n, 100*acc_average))\n",
    "    print('错误率: %2d/%d = %.4f%%' % (n-acc_sum, n, 100*(1-acc_average)))\n",
    "\n",
    "SVM_Train(feature, label, kernel='linear')"
   ]
  },
  {
   "cell_type": "markdown",
   "metadata": {},
   "source": [
    "### log化数据"
   ]
  },
  {
   "cell_type": "code",
   "execution_count": 24,
   "metadata": {
    "scrolled": false
   },
   "outputs": [
    {
     "data": {
      "text/plain": [
       "array([[ 2.99573227,  4.07753744,  2.99573227, ...,  5.90263333,\n",
       "         2.99573227,  4.33073334],\n",
       "       [ 2.99573227,  5.58724866,  6.35957387, ...,  4.39444915,\n",
       "         2.99573227,  3.71357207],\n",
       "       [ 2.99573227,  4.47733681,  2.99573227, ...,  6.10924758,\n",
       "         3.63758616,  5.09986643],\n",
       "       ..., \n",
       "       [ 2.99573227,  5.29831737,  2.99573227, ...,  2.99573227,\n",
       "         2.99573227,  2.99573227],\n",
       "       [ 2.99573227,  5.24702407,  2.99573227, ...,  5.05624581,\n",
       "         2.99573227,  2.99573227],\n",
       "       [ 2.99573227,  4.90527478,  2.99573227, ...,  6.57088296,\n",
       "         2.99573227,  5.91350301]])"
      ]
     },
     "execution_count": 24,
     "metadata": {},
     "output_type": "execute_result"
    }
   ],
   "source": [
    "feature = np.log(feature)\n",
    "feature"
   ]
  },
  {
   "cell_type": "markdown",
   "metadata": {},
   "source": [
    "## 数据清洗\n",
    "### 筛选异常数据项"
   ]
  },
  {
   "cell_type": "code",
   "execution_count": 48,
   "metadata": {
    "scrolled": false
   },
   "outputs": [
    {
     "name": "stdout",
     "output_type": "stream",
     "text": [
      "0\n",
      "1000\n",
      "2000\n",
      "3000\n",
      "4000\n",
      "5000\n",
      "6000\n",
      "\n",
      "异常特征统计数组:\n",
      "[7, 193, 101, 68, 63, 37, 86, 51, 77, 226, 151, 79, 138, 70, 96, 80, 29, 36, 173, 11, 58, 410, 47, 20, 41, 31, 26, 5, 34, 7, 351, 19, 450, 238, 198, 88, 103, 277, 534, 9, 9, 28, 17, 39, 9, 1142, 45, 33, 24, 29, 76, 232, 26, 55, 167, 10, 10, 69, 20, 66, 112, 161, 5, 1153, 18, 28, 5, 50, 40, 28, 28, 44, 18, 222, 45, 2, 48]\n",
      "\n",
      "异常数据项:\n",
      "[38, 45, 63]\n"
     ]
    }
   ],
   "source": [
    "outlier_count = n*[0]\n",
    "for j in range(m):\n",
    "    if j%1000==0:\n",
    "        print(j)\n",
    "    for i in range(n):\n",
    "        if(abs(feature[i,j]-np.mean(feature[:,j])) > 3*np.std(feature[:,j])):\n",
    "                outlier_count[i] += 1\n",
    "\n",
    "print('\\n异常特征统计数组:')\n",
    "print(outlier_count)\n",
    "\n",
    "outlier_set = []\n",
    "for i in range(n):\n",
    "    if(outlier_count[i] > 500):\n",
    "        outlier_set.append(i)\n",
    "print('\\n异常数据项:')\n",
    "print(outlier_set)"
   ]
  },
  {
   "cell_type": "markdown",
   "metadata": {},
   "source": [
    "## SVM Train"
   ]
  },
  {
   "cell_type": "markdown",
   "metadata": {},
   "source": [
    "### kernel = linear"
   ]
  },
  {
   "cell_type": "code",
   "execution_count": 65,
   "metadata": {
    "scrolled": false
   },
   "outputs": [
    {
     "name": "stderr",
     "output_type": "stream",
     "text": [
      "D:\\Program Soft\\Anaconda\\Anaconda3\\lib\\site-packages\\sklearn\\utils\\validation.py:429: DataConversionWarning: Data with input dtype int64 was converted to float64 by StandardScaler.\n",
      "  warnings.warn(msg, _DataConversionWarning)\n"
     ]
    },
    {
     "name": "stdout",
     "output_type": "stream",
     "text": [
      "1: accuracy: 1.0\n",
      "2: accuracy: 1.0\n",
      "3: accuracy: 1.0\n",
      "4: accuracy: 1.0\n",
      "5: accuracy: 1.0\n",
      "6: accuracy: 1.0\n",
      "7: accuracy: 1.0\n",
      "8: accuracy: 1.0\n",
      "9: accuracy: 1.0\n",
      "10: accuracy: 1.0\n",
      "11: accuracy: 1.0\n",
      "12: accuracy: 1.0\n",
      "13: accuracy: 1.0\n",
      "14: accuracy: 1.0\n",
      "15: accuracy: 1.0\n",
      "16: accuracy: 1.0\n",
      "17: accuracy: 1.0\n",
      "18: accuracy: 1.0\n",
      "19: accuracy: 1.0\n",
      "20: accuracy: 1.0\n",
      "21: accuracy: 1.0\n",
      "22: accuracy: 1.0\n",
      "23: accuracy: 1.0\n",
      "24: accuracy: 1.0\n",
      "25: accuracy: 1.0\n",
      "26: accuracy: 1.0\n",
      "27: accuracy: 1.0\n",
      "28: accuracy: 1.0\n",
      "29: accuracy: 0.0\n",
      "30: accuracy: 1.0\n",
      "31: accuracy: 1.0\n",
      "32: accuracy: 1.0\n",
      "33: accuracy: 1.0\n",
      "34: accuracy: 1.0\n",
      "35: accuracy: 1.0\n",
      "36: accuracy: 1.0\n",
      "37: accuracy: 1.0\n",
      "38: accuracy: 1.0\n",
      "39: accuracy: 1.0\n",
      "40: accuracy: 1.0\n",
      "41: accuracy: 1.0\n",
      "42: accuracy: 1.0\n",
      "43: accuracy: 1.0\n",
      "44: accuracy: 1.0\n",
      "45: accuracy: 1.0\n",
      "46: accuracy: 1.0\n",
      "47: accuracy: 1.0\n",
      "48: accuracy: 1.0\n",
      "49: accuracy: 1.0\n",
      "50: accuracy: 1.0\n",
      "51: accuracy: 1.0\n",
      "52: accuracy: 1.0\n",
      "53: accuracy: 1.0\n",
      "54: accuracy: 1.0\n",
      "55: accuracy: 1.0\n",
      "56: accuracy: 1.0\n",
      "57: accuracy: 1.0\n",
      "58: accuracy: 1.0\n",
      "59: accuracy: 1.0\n",
      "60: accuracy: 1.0\n",
      "61: accuracy: 1.0\n",
      "62: accuracy: 1.0\n",
      "63: accuracy: 1.0\n",
      "64: accuracy: 1.0\n",
      "65: accuracy: 1.0\n",
      "66: accuracy: 1.0\n",
      "67: accuracy: 0.0\n",
      "68: accuracy: 0.0\n",
      "69: accuracy: 1.0\n",
      "70: accuracy: 1.0\n",
      "71: accuracy: 1.0\n",
      "72: accuracy: 1.0\n",
      "73: accuracy: 1.0\n",
      "74: accuracy: 1.0\n",
      "75: accuracy: 1.0\n",
      "76: accuracy: 1.0\n",
      "77: accuracy: 1.0\n",
      "\n",
      "正确率: 74/77 = 96.1039%\n",
      "错误率:  3/77 = 3.8961%\n"
     ]
    }
   ],
   "source": [
    "SVM_Train(feature, label, kernel='linear')"
   ]
  },
  {
   "cell_type": "markdown",
   "metadata": {},
   "source": [
    "### kernel = poly"
   ]
  },
  {
   "cell_type": "code",
   "execution_count": 66,
   "metadata": {},
   "outputs": [
    {
     "name": "stderr",
     "output_type": "stream",
     "text": [
      "D:\\Program Soft\\Anaconda\\Anaconda3\\lib\\site-packages\\sklearn\\utils\\validation.py:429: DataConversionWarning: Data with input dtype int64 was converted to float64 by StandardScaler.\n",
      "  warnings.warn(msg, _DataConversionWarning)\n"
     ]
    },
    {
     "name": "stdout",
     "output_type": "stream",
     "text": [
      "1: accuracy: 1.0\n",
      "2: accuracy: 1.0\n",
      "3: accuracy: 1.0\n",
      "4: accuracy: 1.0\n",
      "5: accuracy: 1.0\n",
      "6: accuracy: 1.0\n",
      "7: accuracy: 1.0\n",
      "8: accuracy: 1.0\n",
      "9: accuracy: 1.0\n",
      "10: accuracy: 1.0\n",
      "11: accuracy: 1.0\n",
      "12: accuracy: 1.0\n",
      "13: accuracy: 1.0\n",
      "14: accuracy: 1.0\n",
      "15: accuracy: 1.0\n",
      "16: accuracy: 1.0\n",
      "17: accuracy: 1.0\n",
      "18: accuracy: 1.0\n",
      "19: accuracy: 1.0\n",
      "20: accuracy: 1.0\n",
      "21: accuracy: 1.0\n",
      "22: accuracy: 1.0\n",
      "23: accuracy: 1.0\n",
      "24: accuracy: 1.0\n",
      "25: accuracy: 1.0\n",
      "26: accuracy: 1.0\n",
      "27: accuracy: 1.0\n",
      "28: accuracy: 1.0\n",
      "29: accuracy: 1.0\n",
      "30: accuracy: 1.0\n",
      "31: accuracy: 1.0\n",
      "32: accuracy: 1.0\n",
      "33: accuracy: 1.0\n",
      "34: accuracy: 1.0\n",
      "35: accuracy: 1.0\n",
      "36: accuracy: 1.0\n",
      "37: accuracy: 1.0\n",
      "38: accuracy: 1.0\n",
      "39: accuracy: 1.0\n",
      "40: accuracy: 1.0\n",
      "41: accuracy: 1.0\n",
      "42: accuracy: 1.0\n",
      "43: accuracy: 1.0\n",
      "44: accuracy: 1.0\n",
      "45: accuracy: 1.0\n",
      "46: accuracy: 1.0\n",
      "47: accuracy: 1.0\n",
      "48: accuracy: 1.0\n",
      "49: accuracy: 1.0\n",
      "50: accuracy: 1.0\n",
      "51: accuracy: 1.0\n",
      "52: accuracy: 1.0\n",
      "53: accuracy: 1.0\n",
      "54: accuracy: 1.0\n",
      "55: accuracy: 1.0\n",
      "56: accuracy: 1.0\n",
      "57: accuracy: 1.0\n",
      "58: accuracy: 1.0\n",
      "59: accuracy: 0.0\n",
      "60: accuracy: 0.0\n",
      "61: accuracy: 0.0\n",
      "62: accuracy: 0.0\n",
      "63: accuracy: 0.0\n",
      "64: accuracy: 1.0\n",
      "65: accuracy: 0.0\n",
      "66: accuracy: 0.0\n",
      "67: accuracy: 0.0\n",
      "68: accuracy: 0.0\n",
      "69: accuracy: 0.0\n",
      "70: accuracy: 0.0\n",
      "71: accuracy: 0.0\n",
      "72: accuracy: 0.0\n",
      "73: accuracy: 0.0\n",
      "74: accuracy: 0.0\n",
      "75: accuracy: 0.0\n",
      "76: accuracy: 0.0\n",
      "77: accuracy: 0.0\n",
      "\n",
      "正确率: 59/77 = 76.6234%\n",
      "错误率: 18/77 = 23.3766%\n"
     ]
    }
   ],
   "source": [
    "SVM_Train(feature, label, kernel='poly')"
   ]
  },
  {
   "cell_type": "markdown",
   "metadata": {},
   "source": [
    "### kernel = sigmoid"
   ]
  },
  {
   "cell_type": "code",
   "execution_count": 67,
   "metadata": {},
   "outputs": [
    {
     "name": "stderr",
     "output_type": "stream",
     "text": [
      "D:\\Program Soft\\Anaconda\\Anaconda3\\lib\\site-packages\\sklearn\\utils\\validation.py:429: DataConversionWarning: Data with input dtype int64 was converted to float64 by StandardScaler.\n",
      "  warnings.warn(msg, _DataConversionWarning)\n"
     ]
    },
    {
     "name": "stdout",
     "output_type": "stream",
     "text": [
      "1: accuracy: 1.0\n",
      "2: accuracy: 1.0\n",
      "3: accuracy: 1.0\n",
      "4: accuracy: 1.0\n",
      "5: accuracy: 1.0\n",
      "6: accuracy: 1.0\n",
      "7: accuracy: 1.0\n",
      "8: accuracy: 1.0\n",
      "9: accuracy: 1.0\n",
      "10: accuracy: 1.0\n",
      "11: accuracy: 1.0\n",
      "12: accuracy: 1.0\n",
      "13: accuracy: 1.0\n",
      "14: accuracy: 1.0\n",
      "15: accuracy: 1.0\n",
      "16: accuracy: 1.0\n",
      "17: accuracy: 1.0\n",
      "18: accuracy: 1.0\n",
      "19: accuracy: 1.0\n",
      "20: accuracy: 1.0\n",
      "21: accuracy: 1.0\n",
      "22: accuracy: 1.0\n",
      "23: accuracy: 1.0\n",
      "24: accuracy: 1.0\n",
      "25: accuracy: 1.0\n",
      "26: accuracy: 1.0\n",
      "27: accuracy: 1.0\n",
      "28: accuracy: 1.0\n",
      "29: accuracy: 0.0\n",
      "30: accuracy: 1.0\n",
      "31: accuracy: 1.0\n",
      "32: accuracy: 1.0\n",
      "33: accuracy: 1.0\n",
      "34: accuracy: 1.0\n",
      "35: accuracy: 1.0\n",
      "36: accuracy: 1.0\n",
      "37: accuracy: 1.0\n",
      "38: accuracy: 1.0\n",
      "39: accuracy: 1.0\n",
      "40: accuracy: 1.0\n",
      "41: accuracy: 1.0\n",
      "42: accuracy: 1.0\n",
      "43: accuracy: 1.0\n",
      "44: accuracy: 1.0\n",
      "45: accuracy: 1.0\n",
      "46: accuracy: 1.0\n",
      "47: accuracy: 1.0\n",
      "48: accuracy: 1.0\n",
      "49: accuracy: 1.0\n",
      "50: accuracy: 1.0\n",
      "51: accuracy: 1.0\n",
      "52: accuracy: 1.0\n",
      "53: accuracy: 1.0\n",
      "54: accuracy: 1.0\n",
      "55: accuracy: 1.0\n",
      "56: accuracy: 1.0\n",
      "57: accuracy: 1.0\n",
      "58: accuracy: 1.0\n",
      "59: accuracy: 0.0\n",
      "60: accuracy: 1.0\n",
      "61: accuracy: 1.0\n",
      "62: accuracy: 1.0\n",
      "63: accuracy: 1.0\n",
      "64: accuracy: 0.0\n",
      "65: accuracy: 1.0\n",
      "66: accuracy: 1.0\n",
      "67: accuracy: 0.0\n",
      "68: accuracy: 0.0\n",
      "69: accuracy: 1.0\n",
      "70: accuracy: 0.0\n",
      "71: accuracy: 1.0\n",
      "72: accuracy: 1.0\n",
      "73: accuracy: 1.0\n",
      "74: accuracy: 1.0\n",
      "75: accuracy: 1.0\n",
      "76: accuracy: 1.0\n",
      "77: accuracy: 1.0\n",
      "\n",
      "正确率: 71/77 = 92.2078%\n",
      "错误率:  6/77 = 7.7922%\n"
     ]
    }
   ],
   "source": [
    "SVM_Train(feature, label, kernel='sigmoid')"
   ]
  },
  {
   "cell_type": "markdown",
   "metadata": {},
   "source": [
    "### kernel = rbf"
   ]
  },
  {
   "cell_type": "code",
   "execution_count": 68,
   "metadata": {},
   "outputs": [
    {
     "name": "stderr",
     "output_type": "stream",
     "text": [
      "D:\\Program Soft\\Anaconda\\Anaconda3\\lib\\site-packages\\sklearn\\utils\\validation.py:429: DataConversionWarning: Data with input dtype int64 was converted to float64 by StandardScaler.\n",
      "  warnings.warn(msg, _DataConversionWarning)\n"
     ]
    },
    {
     "name": "stdout",
     "output_type": "stream",
     "text": [
      "1: accuracy: 1.0\n",
      "2: accuracy: 1.0\n",
      "3: accuracy: 1.0\n",
      "4: accuracy: 1.0\n",
      "5: accuracy: 1.0\n",
      "6: accuracy: 1.0\n",
      "7: accuracy: 1.0\n",
      "8: accuracy: 1.0\n",
      "9: accuracy: 1.0\n",
      "10: accuracy: 1.0\n",
      "11: accuracy: 1.0\n",
      "12: accuracy: 1.0\n",
      "13: accuracy: 1.0\n",
      "14: accuracy: 1.0\n",
      "15: accuracy: 1.0\n",
      "16: accuracy: 1.0\n",
      "17: accuracy: 1.0\n",
      "18: accuracy: 1.0\n",
      "19: accuracy: 1.0\n",
      "20: accuracy: 1.0\n",
      "21: accuracy: 1.0\n",
      "22: accuracy: 1.0\n",
      "23: accuracy: 1.0\n",
      "24: accuracy: 1.0\n",
      "25: accuracy: 1.0\n",
      "26: accuracy: 1.0\n",
      "27: accuracy: 1.0\n",
      "28: accuracy: 1.0\n",
      "29: accuracy: 1.0\n",
      "30: accuracy: 1.0\n",
      "31: accuracy: 1.0\n",
      "32: accuracy: 1.0\n",
      "33: accuracy: 1.0\n",
      "34: accuracy: 1.0\n",
      "35: accuracy: 1.0\n",
      "36: accuracy: 1.0\n",
      "37: accuracy: 1.0\n",
      "38: accuracy: 1.0\n",
      "39: accuracy: 1.0\n",
      "40: accuracy: 1.0\n",
      "41: accuracy: 1.0\n",
      "42: accuracy: 1.0\n",
      "43: accuracy: 1.0\n",
      "44: accuracy: 1.0\n",
      "45: accuracy: 1.0\n",
      "46: accuracy: 1.0\n",
      "47: accuracy: 1.0\n",
      "48: accuracy: 1.0\n",
      "49: accuracy: 1.0\n",
      "50: accuracy: 1.0\n",
      "51: accuracy: 1.0\n",
      "52: accuracy: 1.0\n",
      "53: accuracy: 1.0\n",
      "54: accuracy: 1.0\n",
      "55: accuracy: 1.0\n",
      "56: accuracy: 1.0\n",
      "57: accuracy: 1.0\n",
      "58: accuracy: 1.0\n",
      "59: accuracy: 0.0\n",
      "60: accuracy: 0.0\n",
      "61: accuracy: 0.0\n",
      "62: accuracy: 0.0\n",
      "63: accuracy: 0.0\n",
      "64: accuracy: 0.0\n",
      "65: accuracy: 1.0\n",
      "66: accuracy: 1.0\n",
      "67: accuracy: 0.0\n",
      "68: accuracy: 0.0\n",
      "69: accuracy: 1.0\n",
      "70: accuracy: 1.0\n",
      "71: accuracy: 1.0\n",
      "72: accuracy: 1.0\n",
      "73: accuracy: 1.0\n",
      "74: accuracy: 0.0\n",
      "75: accuracy: 1.0\n",
      "76: accuracy: 0.0\n",
      "77: accuracy: 0.0\n",
      "\n",
      "正确率: 66/77 = 85.7143%\n",
      "错误率: 11/77 = 14.2857%\n"
     ]
    }
   ],
   "source": [
    "SVM_Train(feature, label, kernel='rbf')"
   ]
  },
  {
   "cell_type": "markdown",
   "metadata": {},
   "source": [
    "### 非对数化(全部特征)\n",
    "\n",
    "|SVM核函数|留一法正确率|\n",
    "|:-:|:-:|\n",
    "|linear|96.1039 %|\n",
    "|poly|76.6238 %|\n",
    "|sigmoid|92.2078 %|\n",
    "|rbf|85.7143 %|"
   ]
  },
  {
   "cell_type": "markdown",
   "metadata": {},
   "source": [
    "## 特征筛选"
   ]
  },
  {
   "cell_type": "markdown",
   "metadata": {},
   "source": [
    "### 卡方检验选择特征"
   ]
  },
  {
   "cell_type": "code",
   "execution_count": 69,
   "metadata": {
    "scrolled": true
   },
   "outputs": [
    {
     "data": {
      "text/plain": [
       "array([[   20, 14742,  7578,  7502, 16000, 12813],\n",
       "       [  226, 12641, 11102, 16000, 16000, 13190],\n",
       "       [  275, 12730, 11284, 16000, 16000, 13540],\n",
       "       [   89,  9872,  9979, 10944, 16000, 16000],\n",
       "       [   20, 16000,  4553,  7238,  9772, 12063],\n",
       "       [  441, 11217, 13584, 16000, 16000, 14997],\n",
       "       [  131, 11148, 16000,  5420, 16000, 16000],\n",
       "       [ 7631,  1030,  7898,  4063, 16000, 12873],\n",
       "       [  426,  9841,  7082,  6111,  3120, 12390],\n",
       "       [  197, 14099, 12693, 16000, 16000, 12985],\n",
       "       [  199,  6672,  9058,  2516,  5830, 13887],\n",
       "       [  378,  9548, 12199, 16000, 16000, 13308],\n",
       "       [  431, 16000, 15467, 16000, 13895, 14858],\n",
       "       [   39,  9638,  6328, 16000, 16000, 16000],\n",
       "       [ 2870,  2893,  1643,  4372,  1996,  4964],\n",
       "       [  295, 13992,  9453,  7696,  8090, 12720],\n",
       "       [ 1022,  8474,  6233,  3266,  2577, 10248],\n",
       "       [  301, 14990, 10938,  7341,  6516,  9469],\n",
       "       [   20, 15606,  9944,  4933,  7934, 16000],\n",
       "       [ 1290, 10803,  3439,  3122, 12914,  7699],\n",
       "       [   20,  3001,  2376,  3997,  2339,  6105],\n",
       "       [  452, 16000, 13967, 16000, 16000, 14184],\n",
       "       [  143, 13342,  1974,  5362,  1890,  6163],\n",
       "       [  819,  8834,  4057,  6923,  3916, 13154],\n",
       "       [  658,  9773,  6312, 16000, 13769, 10045],\n",
       "       [   20,  2675,   731,  4160, 10841,  2023],\n",
       "       [   20,  7053,  4739,  4288, 10364,  4767],\n",
       "       [  166,  9173,  4906,  7392,  3488,  9022],\n",
       "       [ 2344,  2065,  2092,  1820,  2310,  3625],\n",
       "       [   20, 11160,  5915, 14028, 15923, 13691],\n",
       "       [   41, 16000, 12238, 13995,  8112, 14341],\n",
       "       [  123, 14625,  7900, 14388, 16000, 14738],\n",
       "       [  688, 16000, 14120,  5440,  5491, 12320],\n",
       "       [  380, 13418, 12781, 16000, 16000, 13783],\n",
       "       [  543,  6553,  4342,  4196, 16000,  8566],\n",
       "       [ 3966,  7207,  6341, 16000, 16000, 13687],\n",
       "       [ 1183, 11245,  7885,  7333,  6234, 13697],\n",
       "       [ 2221,  9245, 13040,  7366, 13040, 15344],\n",
       "       [  896,  3713,  6623, 13423, 16000,  8849],\n",
       "       [  228,  6977,  3307,  6907, 10553,  8180],\n",
       "       [   20,  7449,  6984, 14160, 16000, 11486],\n",
       "       [   20, 12422, 10368, 13954, 12739, 13069],\n",
       "       [   20, 13502,  7279,  5940, 14679,  9887],\n",
       "       [  321,  6353,  8894, 12324, 16000, 13511],\n",
       "       [  166, 15958,  5144,  6166,  4158,  9064],\n",
       "       [ 3150, 16000, 13529, 14348, 16000, 14153],\n",
       "       [  606,  7168,  5842,  4505,  6156,  8275],\n",
       "       [   20, 12728,  5486,  8960,  9377, 16000],\n",
       "       [  221, 11115, 10066,  7574, 14396, 14061],\n",
       "       [  238, 10522,  6181,  8903,  4672, 15857],\n",
       "       [  375, 13112,  7323, 14374, 16000, 16000],\n",
       "       [   20, 14119, 10541,  8639, 10361,  6683],\n",
       "       [ 2904,  9907,  5249, 12166, 16000, 12016],\n",
       "       [  284,  5071,  4480,  3013,  7072, 13642],\n",
       "       [   20, 16000,  8362, 11085, 13076, 15067],\n",
       "       [  557,  4228,  2175,  4621,  2890,  2517],\n",
       "       [  730,  5376,  4531,  5852, 13793, 10283],\n",
       "       [  158, 14154,  7995, 16000, 16000, 13566],\n",
       "       [ 4290,  3498,  4290,  4381,  2482,  5988],\n",
       "       [10664,  2826,  1486,  2278,  3206,  3989],\n",
       "       [  289,  1707,  1586,  1572,  4288,  2990],\n",
       "       [ 1887,  2229,  1430,  1407,  2865,  4033],\n",
       "       [ 2367,  2004,  2565,  1378,  1671,  1788],\n",
       "       [  639,  2511,  1244,   279,  4013,  1893],\n",
       "       [ 9677,  1718,  2003,  5408,  2176,  4693],\n",
       "       [ 5664,  4705,  2799,  3681,  1068,  8499],\n",
       "       [ 1580,  5076,  2716,  5289, 14277,  8150],\n",
       "       [  263,  4527,  4652,  3171,  3862,  6244],\n",
       "       [  850,  4628,  2908,  5156,  2191,  8251],\n",
       "       [ 4670,  6756,  4454,  3255,  2834,  8638],\n",
       "       [ 1321,  1777,  1707,  2423,  3937,  2763],\n",
       "       [12732,  4198,  4700,  4022,  5652,  7814],\n",
       "       [ 2503,  3145,  1284,  4017,  2739,  3143],\n",
       "       [ 5287,  1073,  1809,  2014,  4142,  3584],\n",
       "       [ 6348,  4340,  2353,  5055,  3122,  3425],\n",
       "       [ 3492,  2654,  1355,  3546,  2955,  3756],\n",
       "       [ 2818,  1082,   596,   861,  1574,  1699]], dtype=int64)"
      ]
     },
     "execution_count": 69,
     "metadata": {},
     "output_type": "execute_result"
    }
   ],
   "source": [
    "from sklearn.feature_selection import SelectKBest\n",
    "from sklearn.feature_selection import chi2\n",
    "\n",
    "feature_selected = SelectKBest(chi2, k=6).fit_transform(feature, label)\n",
    "feature_selected"
   ]
  },
  {
   "cell_type": "code",
   "execution_count": 70,
   "metadata": {},
   "outputs": [
    {
     "name": "stdout",
     "output_type": "stream",
     "text": [
      "1: accuracy: 1.0\n",
      "2: accuracy: 1.0\n",
      "3: accuracy: 1.0\n",
      "4: accuracy: 1.0\n",
      "5: accuracy: 1.0\n",
      "6: accuracy: 1.0\n",
      "7: accuracy: 1.0\n",
      "8: accuracy: 0.0\n",
      "9: accuracy: 1.0\n",
      "10: accuracy: 1.0\n",
      "11: accuracy: 1.0\n",
      "12: accuracy: 1.0\n",
      "13: accuracy: 1.0\n",
      "14: accuracy: 1.0\n",
      "15: accuracy: 0.0\n",
      "16: accuracy: 1.0\n",
      "17: accuracy: 1.0\n",
      "18: accuracy: 1.0\n",
      "19: accuracy: 1.0\n",
      "20: accuracy: 1.0\n",
      "21: accuracy: 0.0\n",
      "22: accuracy: 1.0\n",
      "23: accuracy: 1.0\n",
      "24: accuracy: 1.0\n",
      "25: accuracy: 1.0\n",
      "26: accuracy: 0.0\n",
      "27: accuracy: 1.0\n",
      "28: accuracy: 1.0\n",
      "29: accuracy: 0.0\n",
      "30: accuracy: 1.0\n",
      "31: accuracy: 1.0\n",
      "32: accuracy: 1.0\n",
      "33: accuracy: 1.0\n",
      "34: accuracy: 1.0\n",
      "35: accuracy: 1.0\n",
      "36: accuracy: 1.0\n",
      "37: accuracy: 1.0\n",
      "38: accuracy: 1.0\n",
      "39: accuracy: 1.0\n",
      "40: accuracy: 1.0\n",
      "41: accuracy: 1.0\n",
      "42: accuracy: 1.0\n",
      "43: accuracy: 1.0\n",
      "44: accuracy: 1.0\n",
      "45: accuracy: 1.0\n",
      "46: accuracy: 1.0\n",
      "47: accuracy: 1.0\n",
      "48: accuracy: 1.0\n",
      "49: accuracy: 1.0\n",
      "50: accuracy: 1.0\n",
      "51: accuracy: 1.0\n",
      "52: accuracy: 1.0\n",
      "53: accuracy: 1.0\n",
      "54: accuracy: 1.0\n",
      "55: accuracy: 1.0\n",
      "56: accuracy: 0.0\n",
      "57: accuracy: 1.0\n",
      "58: accuracy: 1.0\n",
      "59: accuracy: 1.0\n",
      "60: accuracy: 1.0\n",
      "61: accuracy: 1.0\n",
      "62: accuracy: 1.0\n",
      "63: accuracy: 1.0\n",
      "64: accuracy: 1.0\n",
      "65: accuracy: 1.0\n",
      "66: accuracy: 1.0\n",
      "67: accuracy: 0.0\n",
      "68: accuracy: 0.0\n",
      "69: accuracy: 0.0\n",
      "70: accuracy: 1.0\n",
      "71: accuracy: 1.0\n",
      "72: accuracy: 1.0\n",
      "73: accuracy: 1.0\n",
      "74: accuracy: 1.0\n",
      "75: accuracy: 1.0\n",
      "76: accuracy: 1.0\n",
      "77: accuracy: 1.0\n",
      "\n",
      "正确率: 68/77 = 88.3117%\n",
      "错误率:  9/77 = 11.6883%\n"
     ]
    },
    {
     "name": "stderr",
     "output_type": "stream",
     "text": [
      "D:\\Program Soft\\Anaconda\\Anaconda3\\lib\\site-packages\\sklearn\\utils\\validation.py:429: DataConversionWarning: Data with input dtype int64 was converted to float64 by StandardScaler.\n",
      "  warnings.warn(msg, _DataConversionWarning)\n"
     ]
    }
   ],
   "source": [
    "SVM_Train(feature_selected, label, kernel='linear')"
   ]
  },
  {
   "cell_type": "markdown",
   "metadata": {},
   "source": [
    "## Embedded\n",
    "### 基于惩罚项的特征选择法"
   ]
  },
  {
   "cell_type": "code",
   "execution_count": 71,
   "metadata": {},
   "outputs": [
    {
     "data": {
      "text/plain": [
       "(77, 54)"
      ]
     },
     "execution_count": 71,
     "metadata": {},
     "output_type": "execute_result"
    }
   ],
   "source": [
    "from sklearn.feature_selection import SelectFromModel\n",
    "from sklearn.linear_model import LogisticRegression\n",
    "\n",
    "feature_selected = SelectFromModel(LogisticRegression(penalty=\"l1\", C=0.01)).fit_transform(feature, label)\n",
    "np.shape(feature_selected)"
   ]
  },
  {
   "cell_type": "code",
   "execution_count": 72,
   "metadata": {},
   "outputs": [
    {
     "name": "stdout",
     "output_type": "stream",
     "text": [
      "1: accuracy: 1.0\n",
      "2: accuracy: 1.0\n",
      "3: accuracy: 1.0\n",
      "4: accuracy: 1.0\n",
      "5: accuracy: 1.0\n",
      "6: accuracy: 1.0\n",
      "7: accuracy: 1.0\n",
      "8: accuracy: 1.0\n",
      "9: accuracy: 1.0\n",
      "10: accuracy: 1.0\n",
      "11: accuracy: 1.0\n",
      "12: accuracy: 1.0\n",
      "13: accuracy: 1.0\n",
      "14: accuracy: 1.0\n",
      "15: accuracy: 1.0\n",
      "16: accuracy: 1.0\n",
      "17: accuracy: 1.0\n",
      "18: accuracy: 1.0\n",
      "19: accuracy: 1.0\n",
      "20: accuracy: 1.0\n",
      "21: accuracy: 1.0\n",
      "22: accuracy: 1.0\n",
      "23: accuracy: 1.0\n",
      "24: accuracy: 1.0\n",
      "25: accuracy: 1.0\n",
      "26: accuracy: 1.0\n",
      "27: accuracy: 1.0\n",
      "28: accuracy: 1.0\n",
      "29: accuracy: 1.0\n",
      "30: accuracy: 1.0\n",
      "31: accuracy: 1.0\n",
      "32: accuracy: 1.0\n",
      "33: accuracy: 1.0\n",
      "34: accuracy: 1.0\n",
      "35: accuracy: 1.0\n",
      "36: accuracy: 1.0\n",
      "37: accuracy: 1.0\n",
      "38: accuracy: 1.0\n",
      "39: accuracy: 1.0\n",
      "40: accuracy: 1.0\n",
      "41: accuracy: 1.0\n",
      "42: accuracy: 1.0\n",
      "43: accuracy: 1.0\n",
      "44: accuracy: 1.0\n",
      "45: accuracy: 1.0\n",
      "46: accuracy: 1.0\n",
      "47: accuracy: 1.0\n",
      "48: accuracy: 1.0\n",
      "49: accuracy: 1.0\n",
      "50: accuracy: 1.0\n",
      "51: accuracy: 1.0\n",
      "52: accuracy: 1.0\n",
      "53: accuracy: 1.0\n",
      "54: accuracy: 1.0\n",
      "55: accuracy: 1.0\n",
      "56: accuracy: 1.0\n",
      "57: accuracy: 1.0\n",
      "58: accuracy: 1.0\n",
      "59: accuracy: 1.0\n",
      "60: accuracy: 1.0\n",
      "61: accuracy: 1.0\n",
      "62: accuracy: 1.0\n",
      "63: accuracy: 1.0\n",
      "64: accuracy: 1.0\n",
      "65: accuracy: 1.0\n",
      "66: accuracy: 1.0\n",
      "67: accuracy: 1.0\n",
      "68: accuracy: 1.0\n",
      "69: accuracy: 1.0\n",
      "70: accuracy: 1.0\n",
      "71: accuracy: 1.0\n",
      "72: accuracy: 1.0\n",
      "73: accuracy: 1.0\n",
      "74: accuracy: 1.0\n",
      "75: accuracy: 1.0\n",
      "76: accuracy: 1.0\n",
      "77: accuracy: 1.0\n",
      "\n",
      "正确率: 77/77 = 100.0000%\n",
      "错误率:  0/77 = 0.0000%\n"
     ]
    },
    {
     "name": "stderr",
     "output_type": "stream",
     "text": [
      "D:\\Program Soft\\Anaconda\\Anaconda3\\lib\\site-packages\\sklearn\\utils\\validation.py:429: DataConversionWarning: Data with input dtype int64 was converted to float64 by StandardScaler.\n",
      "  warnings.warn(msg, _DataConversionWarning)\n"
     ]
    }
   ],
   "source": [
    "SVM_Train(feature_selected, label, kernel='linear')"
   ]
  },
  {
   "cell_type": "markdown",
   "metadata": {},
   "source": [
    "### 基于树模型的特征选择法"
   ]
  },
  {
   "cell_type": "code",
   "execution_count": 77,
   "metadata": {},
   "outputs": [
    {
     "data": {
      "text/plain": [
       "(77, 56)"
      ]
     },
     "execution_count": 77,
     "metadata": {},
     "output_type": "execute_result"
    }
   ],
   "source": [
    "from sklearn.ensemble import GradientBoostingClassifier\n",
    "\n",
    "feature_selected = SelectFromModel(GradientBoostingClassifier()).fit_transform(feature, label)\n",
    "np.shape(feature_selected)"
   ]
  },
  {
   "cell_type": "code",
   "execution_count": 78,
   "metadata": {},
   "outputs": [
    {
     "name": "stdout",
     "output_type": "stream",
     "text": [
      "1: accuracy: 1.0\n",
      "2: accuracy: 1.0\n",
      "3: accuracy: 1.0\n",
      "4: accuracy: 1.0\n",
      "5: accuracy: 1.0\n",
      "6: accuracy: 1.0\n",
      "7: accuracy: 1.0\n",
      "8: accuracy: 1.0\n",
      "9: accuracy: 1.0\n",
      "10: accuracy: 1.0\n",
      "11: accuracy: 1.0\n",
      "12: accuracy: 1.0\n",
      "13: accuracy: 1.0\n",
      "14: accuracy: 1.0\n",
      "15: accuracy: 1.0\n",
      "16: accuracy: 1.0\n",
      "17: accuracy: 1.0\n",
      "18: accuracy: 1.0\n",
      "19: accuracy: 1.0\n",
      "20: accuracy: 1.0\n",
      "21: accuracy: 1.0\n",
      "22: accuracy: 1.0\n",
      "23: accuracy: 1.0\n",
      "24: accuracy: 1.0\n",
      "25: accuracy: 1.0\n",
      "26: accuracy: 1.0\n",
      "27: accuracy: 1.0\n",
      "28: accuracy: 1.0\n",
      "29: accuracy: 1.0\n",
      "30: accuracy: 1.0\n",
      "31: accuracy: 1.0\n",
      "32: accuracy: 1.0\n",
      "33: accuracy: 1.0\n",
      "34: accuracy: 1.0\n",
      "35: accuracy: 1.0\n",
      "36: accuracy: 1.0\n",
      "37: accuracy: 1.0\n",
      "38: accuracy: 1.0\n",
      "39: accuracy: 1.0\n",
      "40: accuracy: 1.0\n",
      "41: accuracy: 1.0\n",
      "42: accuracy: 1.0\n",
      "43: accuracy: 1.0\n",
      "44: accuracy: 1.0\n",
      "45: accuracy: 1.0\n",
      "46: accuracy: 1.0\n",
      "47: accuracy: 1.0\n",
      "48: accuracy: 1.0\n",
      "49: accuracy: 1.0\n",
      "50: accuracy: 1.0\n",
      "51: accuracy: 1.0\n",
      "52: accuracy: 1.0\n",
      "53: accuracy: 1.0\n",
      "54: accuracy: 1.0\n",
      "55: accuracy: 1.0\n",
      "56: accuracy: 1.0\n",
      "57: accuracy: 1.0\n",
      "58: accuracy: 1.0\n",
      "59: accuracy: 1.0\n",
      "60: accuracy: 1.0\n",
      "61: accuracy: 1.0\n",
      "62: accuracy: 1.0\n",
      "63: accuracy: 1.0\n",
      "64: accuracy: 1.0\n",
      "65: accuracy: 1.0\n",
      "66: accuracy: 1.0\n",
      "67: accuracy: 1.0\n",
      "68: accuracy: 1.0\n",
      "69: accuracy: 1.0\n",
      "70: accuracy: 1.0\n",
      "71: accuracy: 1.0\n",
      "72: accuracy: 1.0\n",
      "73: accuracy: 1.0\n",
      "74: accuracy: 1.0\n",
      "75: accuracy: 1.0\n",
      "76: accuracy: 1.0\n",
      "77: accuracy: 1.0\n",
      "\n",
      "正确率: 77/77 = 100.0000%\n",
      "错误率:  0/77 = 0.0000%\n"
     ]
    },
    {
     "name": "stderr",
     "output_type": "stream",
     "text": [
      "D:\\Program Soft\\Anaconda\\Anaconda3\\lib\\site-packages\\sklearn\\utils\\validation.py:429: DataConversionWarning: Data with input dtype int64 was converted to float64 by StandardScaler.\n",
      "  warnings.warn(msg, _DataConversionWarning)\n"
     ]
    }
   ],
   "source": [
    "SVM_Train(feature_selected, label, kernel='linear')"
   ]
  },
  {
   "cell_type": "markdown",
   "metadata": {},
   "source": [
    "## 降维PCA"
   ]
  },
  {
   "cell_type": "code",
   "execution_count": 83,
   "metadata": {
    "collapsed": true
   },
   "outputs": [],
   "source": [
    "from sklearn.decomposition import PCA\n",
    "\n",
    "def SVM_Train_PCA(feature, label, n_components):\n",
    "    n, m = np.shape(feature)\n",
    "\n",
    "    ss = StandardScaler()\n",
    "    feature_ss = ss.fit_transform(feature)\n",
    "\n",
    "    estimator = PCA(n_components)\n",
    "    feature_pca = estimator.fit_transform(feature_ss)\n",
    "\n",
    "    acc_sum = 0\n",
    "    k = 1\n",
    "\n",
    "    cv = cross_validation.LeaveOneOut(n=len(feature_pca))\n",
    "    for train_index, test_index in cv:\n",
    "        feature_train, feature_test = feature_pca[train_index,:], feature_pca[test_index,:]\n",
    "        label_train, label_test = label[train_index], label[test_index]\n",
    "\n",
    "        svm_model = svm.SVC(kernel='linear')\n",
    "        svm_model.fit(feature_train, label_train)\n",
    "        label_predict = svm_model.predict(feature_test)\n",
    "\n",
    "        acc = svm_model.score(feature_test, label_test)\n",
    "        acc_sum += acc\n",
    "\n",
    "        k += 1\n",
    "\n",
    "    acc_average = acc_sum/n\n",
    "    print('维度:%d 正确率: %d/%d = %.6f' % (n_components, acc_sum, n, acc_average))\n",
    "    return acc_average"
   ]
  },
  {
   "cell_type": "code",
   "execution_count": 84,
   "metadata": {
    "scrolled": true
   },
   "outputs": [
    {
     "name": "stderr",
     "output_type": "stream",
     "text": [
      "D:\\Program Soft\\Anaconda\\Anaconda3\\lib\\site-packages\\sklearn\\utils\\validation.py:429: DataConversionWarning: Data with input dtype int64 was converted to float64 by StandardScaler.\n",
      "  warnings.warn(msg, _DataConversionWarning)\n"
     ]
    },
    {
     "name": "stdout",
     "output_type": "stream",
     "text": [
      "维度:1 正确率: 58/77 = 0.753247\n",
      "维度:2 正确率: 58/77 = 0.753247\n",
      "维度:3 正确率: 58/77 = 0.753247\n",
      "维度:4 正确率: 59/77 = 0.766234\n",
      "维度:5 正确率: 58/77 = 0.753247\n",
      "维度:6 正确率: 71/77 = 0.922078\n",
      "维度:7 正确率: 69/77 = 0.896104\n",
      "维度:8 正确率: 66/77 = 0.857143\n",
      "维度:9 正确率: 67/77 = 0.870130\n",
      "维度:10 正确率: 68/77 = 0.883117\n",
      "维度:11 正确率: 67/77 = 0.870130\n",
      "维度:12 正确率: 68/77 = 0.883117\n",
      "维度:13 正确率: 67/77 = 0.870130\n",
      "维度:14 正确率: 66/77 = 0.857143\n",
      "维度:15 正确率: 67/77 = 0.870130\n",
      "维度:16 正确率: 66/77 = 0.857143\n",
      "维度:17 正确率: 65/77 = 0.844156\n",
      "维度:18 正确率: 70/77 = 0.909091\n",
      "维度:19 正确率: 65/77 = 0.844156\n",
      "维度:20 正确率: 68/77 = 0.883117\n",
      "维度:21 正确率: 66/77 = 0.857143\n",
      "维度:22 正确率: 64/77 = 0.831169\n",
      "维度:23 正确率: 65/77 = 0.844156\n",
      "维度:24 正确率: 65/77 = 0.844156\n",
      "维度:25 正确率: 66/77 = 0.857143\n",
      "维度:26 正确率: 64/77 = 0.831169\n",
      "维度:27 正确率: 68/77 = 0.883117\n",
      "维度:28 正确率: 66/77 = 0.857143\n",
      "维度:29 正确率: 70/77 = 0.909091\n",
      "维度:30 正确率: 65/77 = 0.844156\n",
      "维度:31 正确率: 67/77 = 0.870130\n",
      "维度:32 正确率: 66/77 = 0.857143\n",
      "维度:33 正确率: 67/77 = 0.870130\n",
      "维度:34 正确率: 67/77 = 0.870130\n",
      "维度:35 正确率: 67/77 = 0.870130\n",
      "维度:36 正确率: 66/77 = 0.857143\n",
      "维度:37 正确率: 68/77 = 0.883117\n",
      "维度:38 正确率: 67/77 = 0.870130\n",
      "维度:39 正确率: 68/77 = 0.883117\n",
      "维度:40 正确率: 68/77 = 0.883117\n",
      "维度:41 正确率: 68/77 = 0.883117\n",
      "维度:42 正确率: 70/77 = 0.909091\n",
      "维度:43 正确率: 69/77 = 0.896104\n",
      "维度:44 正确率: 68/77 = 0.883117\n",
      "维度:45 正确率: 67/77 = 0.870130\n",
      "维度:46 正确率: 68/77 = 0.883117\n",
      "维度:47 正确率: 66/77 = 0.857143\n",
      "维度:48 正确率: 66/77 = 0.857143\n",
      "维度:49 正确率: 69/77 = 0.896104\n",
      "维度:50 正确率: 67/77 = 0.870130\n",
      "维度:51 正确率: 69/77 = 0.896104\n",
      "维度:52 正确率: 68/77 = 0.883117\n",
      "维度:53 正确率: 68/77 = 0.883117\n",
      "维度:54 正确率: 68/77 = 0.883117\n",
      "维度:55 正确率: 67/77 = 0.870130\n",
      "维度:56 正确率: 67/77 = 0.870130\n",
      "维度:57 正确率: 68/77 = 0.883117\n",
      "维度:58 正确率: 68/77 = 0.883117\n",
      "维度:59 正确率: 67/77 = 0.870130\n",
      "维度:60 正确率: 71/77 = 0.922078\n",
      "维度:61 正确率: 68/77 = 0.883117\n",
      "维度:62 正确率: 69/77 = 0.896104\n",
      "维度:63 正确率: 69/77 = 0.896104\n",
      "维度:64 正确率: 68/77 = 0.883117\n",
      "维度:65 正确率: 68/77 = 0.883117\n",
      "维度:66 正确率: 70/77 = 0.909091\n",
      "维度:67 正确率: 70/77 = 0.909091\n",
      "维度:68 正确率: 70/77 = 0.909091\n",
      "维度:69 正确率: 70/77 = 0.909091\n",
      "维度:70 正确率: 69/77 = 0.896104\n",
      "维度:71 正确率: 74/77 = 0.961039\n",
      "维度:72 正确率: 74/77 = 0.961039\n",
      "维度:73 正确率: 74/77 = 0.961039\n",
      "维度:74 正确率: 74/77 = 0.961039\n",
      "维度:75 正确率: 74/77 = 0.961039\n",
      "维度:76 正确率: 74/77 = 0.961039\n",
      "维度:77 正确率: 74/77 = 0.961039\n",
      "维度:78 正确率: 74/77 = 0.961039\n",
      "维度:79 正确率: 74/77 = 0.961039\n",
      "维度:80 正确率: 74/77 = 0.961039\n",
      "最大正确率:0.961039 维度:71\n"
     ]
    }
   ],
   "source": [
    "Sup = 80\n",
    "acc_max = 0\n",
    "max_index = 0\n",
    "\n",
    "acc_pca = np.zeros(Sup+1)\n",
    "for k in range(1,Sup+1):\n",
    "    acc = SVM_Train_PCA(feature, label, k)\n",
    "    acc_pca[k] = acc\n",
    "    if acc > acc_max:\n",
    "        acc_max, max_index = acc, k\n",
    "\n",
    "print('最大正确率:%f 维度:%d' % (acc_max, max_index))"
   ]
  },
  {
   "cell_type": "markdown",
   "metadata": {},
   "source": [
    "### 折线图"
   ]
  },
  {
   "cell_type": "code",
   "execution_count": 85,
   "metadata": {},
   "outputs": [
    {
     "data": {
      "image/png": "[encoded data removed]",
      "text/plain": [
       "<matplotlib.figure.Figure at 0x1a11b8f0940>"
      ]
     },
     "metadata": {},
     "output_type": "display_data"
    }
   ],
   "source": [
    "import matplotlib.pyplot as plt\n",
    "import seaborn as sns\n",
    "\n",
    "xi = range(1,Sup+1)\n",
    "plt.figure(figsize=(15,8))\n",
    "plt.plot(xi, acc_pca[1:], '.-')\n",
    "plt.xticks(range(0,90,10))\n",
    "plt.ylim(0.7, 1.0)\n",
    "plt.grid(True)\n",
    "plt.show()"
   ]
  },
  {
   "cell_type": "markdown",
   "metadata": {},
   "source": [
    "## 超参数网格搜索"
   ]
  },
  {
   "cell_type": "code",
   "execution_count": 203,
   "metadata": {},
   "outputs": [
    {
     "name": "stderr",
     "output_type": "stream",
     "text": [
      "D:\\Program Soft\\Anaconda\\Anaconda3\\lib\\site-packages\\sklearn\\utils\\validation.py:429: DataConversionWarning: Data with input dtype int64 was converted to float64 by StandardScaler.\n",
      "  warnings.warn(msg, _DataConversionWarning)\n"
     ]
    },
    {
     "data": {
      "text/plain": [
       "GridSearchCV(cv=2, error_score='raise',\n",
       "       estimator=SVC(C=1.0, cache_size=200, class_weight=None, coef0=0.0,\n",
       "  decision_function_shape=None, degree=3, gamma='auto', kernel='rbf',\n",
       "  max_iter=-1, probability=False, random_state=None, shrinking=True,\n",
       "  tol=0.001, verbose=False),\n",
       "       fit_params={}, iid=True, n_jobs=-1,\n",
       "       param_grid={'kernel': ['linear'], 'C': [1, 2, 4], 'gamma': [0.0001, 0.001, 0.01, 0.1, 1, 10]},\n",
       "       pre_dispatch='2*n_jobs', refit=True, return_train_score=True,\n",
       "       scoring=None, verbose=0)"
      ]
     },
     "execution_count": 203,
     "metadata": {},
     "output_type": "execute_result"
    }
   ],
   "source": [
    "from sklearn.model_selection import GridSearchCV\n",
    "\n",
    "parameters = {'kernel':['linear'], 'C':[1, 2, 4], 'gamma':[0.0001, 0.001, 0.01, 0.1 ,1, 10]}\n",
    "svm_model = svm.SVC()\n",
    "clf = GridSearchCV(svm_model, parameters, n_jobs=-1, cv=2)\n",
    "\n",
    "ss = StandardScaler()\n",
    "featuren_ss = ss.fit_transform(feature)\n",
    "\n",
    "clf.fit(feature_ss, label)"
   ]
  },
  {
   "cell_type": "code",
   "execution_count": 204,
   "metadata": {},
   "outputs": [
    {
     "name": "stdout",
     "output_type": "stream",
     "text": [
      "    mean_fit_time  mean_score_time  mean_test_score  mean_train_score param_C  \\\n",
      "0        0.022266         0.010007         0.961039               1.0       1   \n",
      "1        0.028021         0.020765         0.961039               1.0       1   \n",
      "2        0.039529         0.016261         0.961039               1.0       1   \n",
      "3        0.033023         0.016012         0.961039               1.0       1   \n",
      "4        0.035525         0.016263         0.961039               1.0       1   \n",
      "5        0.041028         0.022516         0.961039               1.0       1   \n",
      "6        0.027770         0.018514         0.961039               1.0       2   \n",
      "7        0.042781         0.014761         0.961039               1.0       2   \n",
      "8        0.035275         0.013509         0.961039               1.0       2   \n",
      "9        0.034026         0.022515         0.961039               1.0       2   \n",
      "10       0.032274         0.018762         0.961039               1.0       2   \n",
      "11       0.063544         0.014011         0.961039               1.0       2   \n",
      "12       0.051536         0.010759         0.961039               1.0       4   \n",
      "13       0.045282         0.012509         0.961039               1.0       4   \n",
      "14       0.039028         0.020266         0.961039               1.0       4   \n",
      "15       0.049535         0.014760         0.961039               1.0       4   \n",
      "16       0.027771         0.010758         0.961039               1.0       4   \n",
      "17       0.031272         0.012509         0.961039               1.0       4   \n",
      "\n",
      "   param_gamma param_kernel                                         params  \\\n",
      "0       0.0001       linear  {'C': 1, 'gamma': 0.0001, 'kernel': 'linear'}   \n",
      "1        0.001       linear   {'C': 1, 'gamma': 0.001, 'kernel': 'linear'}   \n",
      "2         0.01       linear    {'C': 1, 'gamma': 0.01, 'kernel': 'linear'}   \n",
      "3          0.1       linear     {'C': 1, 'gamma': 0.1, 'kernel': 'linear'}   \n",
      "4            1       linear       {'C': 1, 'gamma': 1, 'kernel': 'linear'}   \n",
      "5           10       linear      {'C': 1, 'gamma': 10, 'kernel': 'linear'}   \n",
      "6       0.0001       linear  {'C': 2, 'gamma': 0.0001, 'kernel': 'linear'}   \n",
      "7        0.001       linear   {'C': 2, 'gamma': 0.001, 'kernel': 'linear'}   \n",
      "8         0.01       linear    {'C': 2, 'gamma': 0.01, 'kernel': 'linear'}   \n",
      "9          0.1       linear     {'C': 2, 'gamma': 0.1, 'kernel': 'linear'}   \n",
      "10           1       linear       {'C': 2, 'gamma': 1, 'kernel': 'linear'}   \n",
      "11          10       linear      {'C': 2, 'gamma': 10, 'kernel': 'linear'}   \n",
      "12      0.0001       linear  {'C': 4, 'gamma': 0.0001, 'kernel': 'linear'}   \n",
      "13       0.001       linear   {'C': 4, 'gamma': 0.001, 'kernel': 'linear'}   \n",
      "14        0.01       linear    {'C': 4, 'gamma': 0.01, 'kernel': 'linear'}   \n",
      "15         0.1       linear     {'C': 4, 'gamma': 0.1, 'kernel': 'linear'}   \n",
      "16           1       linear       {'C': 4, 'gamma': 1, 'kernel': 'linear'}   \n",
      "17          10       linear      {'C': 4, 'gamma': 10, 'kernel': 'linear'}   \n",
      "\n",
      "    rank_test_score  split0_test_score  split0_train_score  split1_test_score  \\\n",
      "0                 1           0.923077                 1.0                1.0   \n",
      "1                 1           0.923077                 1.0                1.0   \n",
      "2                 1           0.923077                 1.0                1.0   \n",
      "3                 1           0.923077                 1.0                1.0   \n",
      "4                 1           0.923077                 1.0                1.0   \n",
      "5                 1           0.923077                 1.0                1.0   \n",
      "6                 1           0.923077                 1.0                1.0   \n",
      "7                 1           0.923077                 1.0                1.0   \n",
      "8                 1           0.923077                 1.0                1.0   \n",
      "9                 1           0.923077                 1.0                1.0   \n",
      "10                1           0.923077                 1.0                1.0   \n",
      "11                1           0.923077                 1.0                1.0   \n",
      "12                1           0.923077                 1.0                1.0   \n",
      "13                1           0.923077                 1.0                1.0   \n",
      "14                1           0.923077                 1.0                1.0   \n",
      "15                1           0.923077                 1.0                1.0   \n",
      "16                1           0.923077                 1.0                1.0   \n",
      "17                1           0.923077                 1.0                1.0   \n",
      "\n",
      "    split1_train_score  std_fit_time  std_score_time  std_test_score  \\\n",
      "0                  1.0  2.506971e-04    1.000643e-03        0.038458   \n",
      "1                  1.0  7.504940e-03    1.175988e-02        0.038458   \n",
      "2                  1.0  9.998083e-04    2.504587e-04        0.038458   \n",
      "3                  1.0  8.005142e-03    1.000524e-03        0.038458   \n",
      "4                  1.0  5.504966e-03    7.497072e-04        0.038458   \n",
      "5                  1.0  8.344650e-07    1.500726e-03        0.038458   \n",
      "6                  1.0  6.254673e-03    5.002856e-03        0.038458   \n",
      "7                  1.0  1.125705e-02    1.251101e-03        0.038458   \n",
      "8                  1.0  2.252460e-03    3.576279e-07        0.038458   \n",
      "9                  1.0  6.504178e-03    1.150823e-02        0.038458   \n",
      "10                 1.0  4.752398e-03    7.500648e-04        0.038458   \n",
      "11                 1.0  4.003167e-03    1.192093e-07        0.038458   \n",
      "12                 1.0  3.502607e-03    7.497072e-04        0.038458   \n",
      "13                 1.0  1.751184e-03    2.001762e-03        0.038458   \n",
      "14                 1.0  1.150739e-02    6.254911e-03        0.038458   \n",
      "15                 1.0  5.960464e-07    2.251983e-03        0.038458   \n",
      "16                 1.0  2.497435e-04    1.252532e-03        0.038458   \n",
      "17                 1.0  5.753160e-03    1.501441e-03        0.038458   \n",
      "\n",
      "    std_train_score  \n",
      "0               0.0  \n",
      "1               0.0  \n",
      "2               0.0  \n",
      "3               0.0  \n",
      "4               0.0  \n",
      "5               0.0  \n",
      "6               0.0  \n",
      "7               0.0  \n",
      "8               0.0  \n",
      "9               0.0  \n",
      "10              0.0  \n",
      "11              0.0  \n",
      "12              0.0  \n",
      "13              0.0  \n",
      "14              0.0  \n",
      "15              0.0  \n",
      "16              0.0  \n",
      "17              0.0  \n"
     ]
    }
   ],
   "source": [
    "cv_result = pd.DataFrame.from_dict(clf.cv_results_)\n",
    "print(cv_result)"
   ]
  },
  {
   "cell_type": "code",
   "execution_count": null,
   "metadata": {
    "collapsed": true
   },
   "outputs": [],
   "source": []
  }
 ],
 "metadata": {
  "kernelspec": {
   "display_name": "Python 3",
   "language": "python",
   "name": "python3"
  },
  "language_info": {
   "codemirror_mode": {
    "name": "ipython",
    "version": 3
   },
   "file_extension": ".py",
   "mimetype": "text/x-python",
   "name": "python",
   "nbconvert_exporter": "python",
   "pygments_lexer": "ipython3",
   "version": "3.6.3"
  }
 },
 "nbformat": 4,
 "nbformat_minor": 2
}
