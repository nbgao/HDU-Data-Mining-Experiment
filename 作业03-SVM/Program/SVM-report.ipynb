{
 "cells": [
  {
   "cell_type": "markdown",
   "metadata": {},
   "source": [
    "## 数据导入"
   ]
  },
  {
   "cell_type": "code",
   "execution_count": 1,
   "metadata": {
    "collapsed": true
   },
   "outputs": [],
   "source": [
    "import numpy as np\n",
    "import pandas as pd\n",
    "import matplotlib.pyplot as plt\n",
    "import sklearn\n",
    "\n",
    "\n",
    "df_X = pd.read_table('./DLBCL_data_6285_77.txt', header=None)\n",
    "feature = df_X.get_values().T\n",
    "\n",
    "df_y = pd.read_table('./dlbcl_label.txt', header=None, sep=' ')\n",
    "label = df_y.get_values()[0]"
   ]
  },
  {
   "cell_type": "code",
   "execution_count": 2,
   "metadata": {
    "scrolled": true
   },
   "outputs": [
    {
     "data": {
      "text/plain": [
       "array([[ 20,  59,  20, ..., 366,  20,  76],\n",
       "       [ 20, 267, 578, ...,  81,  20,  41],\n",
       "       [ 20,  88,  20, ..., 450,  38, 164],\n",
       "       ..., \n",
       "       [ 20, 200,  20, ...,  20,  20,  20],\n",
       "       [ 20, 190,  20, ..., 157,  20,  20],\n",
       "       [ 20, 135,  20, ..., 714,  20, 370]], dtype=int64)"
      ]
     },
     "execution_count": 2,
     "metadata": {},
     "output_type": "execute_result"
    }
   ],
   "source": [
    "feature"
   ]
  },
  {
   "cell_type": "code",
   "execution_count": 3,
   "metadata": {
    "scrolled": false
   },
   "outputs": [
    {
     "data": {
      "text/plain": [
       "array([1, 1, 1, 1, 1, 1, 1, 1, 1, 1, 1, 1, 1, 1, 1, 1, 1, 1, 1, 1, 1, 1, 1,\n",
       "       1, 1, 1, 1, 1, 1, 1, 1, 1, 1, 1, 1, 1, 1, 1, 1, 1, 1, 1, 1, 1, 1, 1,\n",
       "       1, 1, 1, 1, 1, 1, 1, 1, 1, 1, 1, 1, 2, 2, 2, 2, 2, 2, 2, 2, 2, 2, 2,\n",
       "       2, 2, 2, 2, 2, 2, 2, 2], dtype=int64)"
      ]
     },
     "execution_count": 3,
     "metadata": {},
     "output_type": "execute_result"
    }
   ],
   "source": [
    "label"
   ]
  },
  {
   "cell_type": "code",
   "execution_count": 4,
   "metadata": {},
   "outputs": [
    {
     "data": {
      "text/plain": [
       "(77, 6285)"
      ]
     },
     "execution_count": 4,
     "metadata": {},
     "output_type": "execute_result"
    }
   ],
   "source": [
    "n, m = np.shape(feature)\n",
    "n, m"
   ]
  },
  {
   "cell_type": "code",
   "execution_count": 5,
   "metadata": {
    "scrolled": true
   },
   "outputs": [
    {
     "data": {
      "text/plain": [
       "array([ 1,  1,  1,  1,  1,  1,  1,  1,  1,  1,  1,  1,  1,  1,  1,  1,  1,\n",
       "        1,  1,  1,  1,  1,  1,  1,  1,  1,  1,  1,  1,  1,  1,  1,  1,  1,\n",
       "        1,  1,  1,  1,  1,  1,  1,  1,  1,  1,  1,  1,  1,  1,  1,  1,  1,\n",
       "        1,  1,  1,  1,  1,  1,  1, -1, -1, -1, -1, -1, -1, -1, -1, -1, -1,\n",
       "       -1, -1, -1, -1, -1, -1, -1, -1, -1], dtype=int64)"
      ]
     },
     "execution_count": 5,
     "metadata": {},
     "output_type": "execute_result"
    }
   ],
   "source": [
    "for i in range(n):\n",
    "    if label[i]==2:\n",
    "        label[i] = -1\n",
    "label"
   ]
  },
  {
   "cell_type": "markdown",
   "metadata": {},
   "source": [
    "## SVM Train"
   ]
  },
  {
   "cell_type": "code",
   "execution_count": 217,
   "metadata": {},
   "outputs": [],
   "source": [
    "from sklearn.preprocessing import StandardScaler\n",
    "from sklearn import cross_validation\n",
    "from sklearn import svm\n",
    "\n",
    "def SVM_Train(feature, label, kernel):\n",
    "    n, m = np.shape(feature)\n",
    "\n",
    "    ss = StandardScaler()\n",
    "    feature_ss = ss.fit_transform(feature)\n",
    "\n",
    "    acc_sum = 0\n",
    "    k = 1\n",
    "\n",
    "    cv = cross_validation.LeaveOneOut(n=len(feature_ss))\n",
    "    for train_index, test_index in cv:\n",
    "        feature_train, feature_test = feature_ss[train_index,:], feature_ss[test_index,:]\n",
    "        label_train, label_test = label[train_index], label[test_index]\n",
    "\n",
    "        svm_model = svm.SVC(kernel=kernel)\n",
    "        svm_model.fit(feature_train, label_train)\n",
    "        label_predict = svm_model.predict(feature_test)\n",
    "\n",
    "        acc = svm_model.score(feature_test, label_test)\n",
    "        # print(\"%s: accuracy: %s\" % (k,acc))\n",
    "        acc_sum += acc\n",
    "\n",
    "        k += 1\n",
    "\n",
    "    acc_average = acc_sum/n\n",
    "    print('\\n正确率: %d/%d = %.4f%%' % (acc_sum, n, 100*acc_average))\n",
    "    print('错误率: %2d/%d = %.4f%%' % (n-acc_sum, n, 100*(1-acc_average)))\n",
    "    \n",
    "    return acc_average"
   ]
  },
  {
   "cell_type": "markdown",
   "metadata": {},
   "source": [
    "## 非对数化训练结果"
   ]
  },
  {
   "cell_type": "markdown",
   "metadata": {},
   "source": [
    "### kernel = linear"
   ]
  },
  {
   "cell_type": "code",
   "execution_count": 12,
   "metadata": {
    "scrolled": false
   },
   "outputs": [
    {
     "name": "stderr",
     "output_type": "stream",
     "text": [
      "D:\\Program Soft\\Anaconda\\Anaconda3\\lib\\site-packages\\sklearn\\utils\\validation.py:429: DataConversionWarning: Data with input dtype int64 was converted to float64 by StandardScaler.\n",
      "  warnings.warn(msg, _DataConversionWarning)\n"
     ]
    },
    {
     "name": "stdout",
     "output_type": "stream",
     "text": [
      "\n",
      "正确率: 74/77 = 96.1039%\n",
      "错误率:  3/77 = 3.8961%\n"
     ]
    }
   ],
   "source": [
    "SVM_Train(feature, label, kernel='linear')"
   ]
  },
  {
   "cell_type": "markdown",
   "metadata": {},
   "source": [
    "### kernel = poly"
   ]
  },
  {
   "cell_type": "code",
   "execution_count": 13,
   "metadata": {},
   "outputs": [
    {
     "name": "stderr",
     "output_type": "stream",
     "text": [
      "D:\\Program Soft\\Anaconda\\Anaconda3\\lib\\site-packages\\sklearn\\utils\\validation.py:429: DataConversionWarning: Data with input dtype int64 was converted to float64 by StandardScaler.\n",
      "  warnings.warn(msg, _DataConversionWarning)\n"
     ]
    },
    {
     "name": "stdout",
     "output_type": "stream",
     "text": [
      "\n",
      "正确率: 59/77 = 76.6234%\n",
      "错误率: 18/77 = 23.3766%\n"
     ]
    }
   ],
   "source": [
    "SVM_Train(feature, label, kernel='poly')"
   ]
  },
  {
   "cell_type": "markdown",
   "metadata": {},
   "source": [
    "### kernel = sigmoid"
   ]
  },
  {
   "cell_type": "code",
   "execution_count": 14,
   "metadata": {},
   "outputs": [
    {
     "name": "stderr",
     "output_type": "stream",
     "text": [
      "D:\\Program Soft\\Anaconda\\Anaconda3\\lib\\site-packages\\sklearn\\utils\\validation.py:429: DataConversionWarning: Data with input dtype int64 was converted to float64 by StandardScaler.\n",
      "  warnings.warn(msg, _DataConversionWarning)\n"
     ]
    },
    {
     "name": "stdout",
     "output_type": "stream",
     "text": [
      "\n",
      "正确率: 71/77 = 92.2078%\n",
      "错误率:  6/77 = 7.7922%\n"
     ]
    }
   ],
   "source": [
    "SVM_Train(feature, label, kernel='sigmoid')"
   ]
  },
  {
   "cell_type": "markdown",
   "metadata": {},
   "source": [
    "### kernel = rbf"
   ]
  },
  {
   "cell_type": "code",
   "execution_count": 15,
   "metadata": {},
   "outputs": [
    {
     "name": "stderr",
     "output_type": "stream",
     "text": [
      "D:\\Program Soft\\Anaconda\\Anaconda3\\lib\\site-packages\\sklearn\\utils\\validation.py:429: DataConversionWarning: Data with input dtype int64 was converted to float64 by StandardScaler.\n",
      "  warnings.warn(msg, _DataConversionWarning)\n"
     ]
    },
    {
     "name": "stdout",
     "output_type": "stream",
     "text": [
      "\n",
      "正确率: 66/77 = 85.7143%\n",
      "错误率: 11/77 = 14.2857%\n"
     ]
    }
   ],
   "source": [
    "SVM_Train(feature, label, kernel='rbf')"
   ]
  },
  {
   "cell_type": "markdown",
   "metadata": {},
   "source": [
    "### 非对数化(全部特征)\n",
    "\n",
    "|SVM核函数|分类错误数|留一法正确率|留一法错误率|\n",
    "|:-:|:-:|:-:|:-:|\n",
    "|linear|3|96.1039 %|3.8961 %|\n",
    "|poly|18|76.6238 %|23.3766 %|\n",
    "|sigmoid|6|92.2078 %|7.7922 %|\n",
    "|rbf|11|85.7143 %|14.2857 %|"
   ]
  },
  {
   "cell_type": "markdown",
   "metadata": {},
   "source": [
    "## log化数据"
   ]
  },
  {
   "cell_type": "code",
   "execution_count": 16,
   "metadata": {
    "scrolled": false
   },
   "outputs": [
    {
     "data": {
      "text/plain": [
       "array([[ 2.99573227,  4.07753744,  2.99573227, ...,  5.90263333,\n",
       "         2.99573227,  4.33073334],\n",
       "       [ 2.99573227,  5.58724866,  6.35957387, ...,  4.39444915,\n",
       "         2.99573227,  3.71357207],\n",
       "       [ 2.99573227,  4.47733681,  2.99573227, ...,  6.10924758,\n",
       "         3.63758616,  5.09986643],\n",
       "       ..., \n",
       "       [ 2.99573227,  5.29831737,  2.99573227, ...,  2.99573227,\n",
       "         2.99573227,  2.99573227],\n",
       "       [ 2.99573227,  5.24702407,  2.99573227, ...,  5.05624581,\n",
       "         2.99573227,  2.99573227],\n",
       "       [ 2.99573227,  4.90527478,  2.99573227, ...,  6.57088296,\n",
       "         2.99573227,  5.91350301]])"
      ]
     },
     "execution_count": 16,
     "metadata": {},
     "output_type": "execute_result"
    }
   ],
   "source": [
    "feature_log = np.log(feature)\n",
    "feature_log"
   ]
  },
  {
   "cell_type": "markdown",
   "metadata": {},
   "source": [
    "### kernel = linear"
   ]
  },
  {
   "cell_type": "code",
   "execution_count": 17,
   "metadata": {},
   "outputs": [
    {
     "name": "stdout",
     "output_type": "stream",
     "text": [
      "\n",
      "正确率: 75/77 = 97.4026%\n",
      "错误率:  2/77 = 2.5974%\n"
     ]
    }
   ],
   "source": [
    "SVM_Train(feature_log, label, kernel='linear')"
   ]
  },
  {
   "cell_type": "markdown",
   "metadata": {},
   "source": [
    "### kernel = poly"
   ]
  },
  {
   "cell_type": "code",
   "execution_count": 21,
   "metadata": {},
   "outputs": [
    {
     "name": "stdout",
     "output_type": "stream",
     "text": [
      "\n",
      "正确率: 58/77 = 75.3247%\n",
      "错误率: 19/77 = 24.6753%\n"
     ]
    }
   ],
   "source": [
    "SVM_Train(feature_log, label, kernel='poly')"
   ]
  },
  {
   "cell_type": "markdown",
   "metadata": {},
   "source": [
    "### kernel = sigmoid"
   ]
  },
  {
   "cell_type": "code",
   "execution_count": 22,
   "metadata": {},
   "outputs": [
    {
     "name": "stdout",
     "output_type": "stream",
     "text": [
      "\n",
      "正确率: 73/77 = 94.8052%\n",
      "错误率:  4/77 = 5.1948%\n"
     ]
    }
   ],
   "source": [
    "SVM_Train(feature_log, label, kernel='sigmoid')"
   ]
  },
  {
   "cell_type": "markdown",
   "metadata": {},
   "source": [
    "### kernel = rbf"
   ]
  },
  {
   "cell_type": "code",
   "execution_count": 23,
   "metadata": {
    "scrolled": true
   },
   "outputs": [
    {
     "name": "stdout",
     "output_type": "stream",
     "text": [
      "\n",
      "正确率: 65/77 = 84.4156%\n",
      "错误率: 12/77 = 15.5844%\n"
     ]
    }
   ],
   "source": [
    "SVM_Train(feature_log, label, kernel='rbf')"
   ]
  },
  {
   "cell_type": "markdown",
   "metadata": {},
   "source": [
    "### 对数化(全部特征)\n",
    "\n",
    "|SVM核函数|分类错误数|留一法正确率|留一法错误率|\n",
    "|:-:|:-:|:-:|:-:|\n",
    "|linear|2|97.4026 %|2.5974 %|\n",
    "|poly|19|75.3247 %|24.6753 %|\n",
    "|sigmoid|4|94.8052 %|5.1948 %|\n",
    "|rbf|12|84.4156 %|15.5844 %|"
   ]
  },
  {
   "cell_type": "markdown",
   "metadata": {},
   "source": [
    "# 特征筛选(未对数化)"
   ]
  },
  {
   "cell_type": "markdown",
   "metadata": {},
   "source": [
    "## Filter 过滤法\n",
    "### 卡方检验选择特征"
   ]
  },
  {
   "cell_type": "code",
   "execution_count": 155,
   "metadata": {
    "scrolled": false
   },
   "outputs": [
    {
     "data": {
      "text/plain": [
       "(77, 10)"
      ]
     },
     "execution_count": 155,
     "metadata": {},
     "output_type": "execute_result"
    }
   ],
   "source": [
    "from sklearn.feature_selection import SelectKBest\n",
    "from sklearn.feature_selection import chi2\n",
    "\n",
    "feature_selected = SelectKBest(chi2, k=10).fit_transform(feature, label)\n",
    "np.shape(feature_selected)"
   ]
  },
  {
   "cell_type": "code",
   "execution_count": 234,
   "metadata": {
    "collapsed": true
   },
   "outputs": [],
   "source": [
    "def SVM_Train_Select(feature, label, kernel):\n",
    "    n, m = np.shape(feature)\n",
    "\n",
    "    ss = StandardScaler()\n",
    "    feature_ss = ss.fit_transform(feature)\n",
    "\n",
    "    acc_sum = 0\n",
    "    k = 1\n",
    "\n",
    "    cv = cross_validation.LeaveOneOut(n=len(feature_ss))\n",
    "    for train_index, test_index in cv:\n",
    "        feature_train, feature_test = feature_ss[train_index,:], feature_ss[test_index,:]\n",
    "        label_train, label_test = label[train_index], label[test_index]\n",
    "\n",
    "        svm_model = svm.SVC(kernel=kernel)\n",
    "        svm_model.fit(feature_train, label_train)\n",
    "        label_predict = svm_model.predict(feature_test)\n",
    "\n",
    "        acc = svm_model.score(feature_test, label_test)\n",
    "        # print(\"%s: accuracy: %s\" % (k,acc))\n",
    "        acc_sum += acc\n",
    "\n",
    "        k += 1\n",
    "\n",
    "    acc_average = acc_sum/n    \n",
    "    \n",
    "    return acc_sum, acc_average"
   ]
  },
  {
   "cell_type": "code",
   "execution_count": 243,
   "metadata": {
    "scrolled": false
   },
   "outputs": [
    {
     "name": "stderr",
     "output_type": "stream",
     "text": [
      "D:\\Program Soft\\Anaconda\\Anaconda3\\lib\\site-packages\\sklearn\\utils\\validation.py:429: DataConversionWarning: Data with input dtype int64 was converted to float64 by StandardScaler.\n",
      "  warnings.warn(msg, _DataConversionWarning)\n"
     ]
    },
    {
     "name": "stdout",
     "output_type": "stream",
     "text": [
      "特征数:1 正确率: 64/77 = 83.1169%\n",
      "特征数:2 正确率: 67/77 = 87.0130%\n",
      "特征数:3 正确率: 70/77 = 90.9091%\n",
      "特征数:4 正确率: 69/77 = 89.6104%\n",
      "特征数:5 正确率: 69/77 = 89.6104%\n",
      "特征数:6 正确率: 68/77 = 88.3117%\n",
      "特征数:7 正确率: 68/77 = 88.3117%\n",
      "特征数:8 正确率: 68/77 = 88.3117%\n",
      "特征数:9 正确率: 68/77 = 88.3117%\n",
      "特征数:10 正确率: 72/77 = 93.5065%\n",
      "特征数:11 正确率: 72/77 = 93.5065%\n",
      "特征数:12 正确率: 72/77 = 93.5065%\n",
      "特征数:13 正确率: 72/77 = 93.5065%\n",
      "特征数:14 正确率: 71/77 = 92.2078%\n",
      "特征数:15 正确率: 70/77 = 90.9091%\n",
      "特征数:16 正确率: 70/77 = 90.9091%\n",
      "特征数:17 正确率: 70/77 = 90.9091%\n",
      "特征数:18 正确率: 70/77 = 90.9091%\n",
      "特征数:19 正确率: 69/77 = 89.6104%\n",
      "特征数:20 正确率: 69/77 = 89.6104%\n",
      "特征数:21 正确率: 69/77 = 89.6104%\n",
      "特征数:22 正确率: 68/77 = 88.3117%\n",
      "特征数:23 正确率: 71/77 = 92.2078%\n",
      "特征数:24 正确率: 71/77 = 92.2078%\n",
      "特征数:25 正确率: 71/77 = 92.2078%\n",
      "特征数:26 正确率: 70/77 = 90.9091%\n",
      "特征数:27 正确率: 72/77 = 93.5065%\n",
      "特征数:28 正确率: 72/77 = 93.5065%\n",
      "特征数:29 正确率: 72/77 = 93.5065%\n",
      "特征数:30 正确率: 72/77 = 93.5065%\n",
      "特征数:31 正确率: 71/77 = 92.2078%\n",
      "特征数:32 正确率: 71/77 = 92.2078%\n",
      "特征数:33 正确率: 71/77 = 92.2078%\n",
      "特征数:34 正确率: 71/77 = 92.2078%\n",
      "特征数:35 正确率: 72/77 = 93.5065%\n",
      "特征数:36 正确率: 71/77 = 92.2078%\n",
      "特征数:37 正确率: 70/77 = 90.9091%\n",
      "特征数:38 正确率: 70/77 = 90.9091%\n",
      "特征数:39 正确率: 70/77 = 90.9091%\n",
      "特征数:40 正确率: 70/77 = 90.9091%\n",
      "\n",
      "最大正确率:0.935065 特征数:10\n"
     ]
    },
    {
     "data": {
      "image/png": "[encoded data removed]",
      "text/plain": [
       "<matplotlib.figure.Figure at 0x193d3738c50>"
      ]
     },
     "metadata": {},
     "output_type": "display_data"
    }
   ],
   "source": [
    "acc_max = 0\n",
    "max_index = 1\n",
    "acc_list = np.zeros(41)\n",
    "for k in range(1,41):\n",
    "    feature_selected = SelectKBest(chi2, k=k).fit_transform(feature, label)\n",
    "    acc_sum, acc = SVM_Train_Select(feature_selected, label, kernel='linear');\n",
    "    acc_list[k] = acc\n",
    "    if acc > acc_max:\n",
    "        acc_max = acc\n",
    "        max_index = k\n",
    "    print('特征数:%d 正确率: %d/%d = %.4f%%' % (k, acc_sum, n, 100*acc))\n",
    "    \n",
    "print('\\n最大正确率:%f 特征数:%d' % (acc_max, max_index))\n",
    "\n",
    "xi = range(1,41)\n",
    "plt.figure(figsize=(12,7))\n",
    "plt.plot(xi, acc_list[1:], '.-')\n",
    "plt.xticks(range(0,45,5))\n",
    "plt.ylim(0.7, 1.0)\n",
    "plt.grid(True)\n",
    "plt.show()"
   ]
  },
  {
   "cell_type": "markdown",
   "metadata": {},
   "source": [
    "## Embedded 集成法\n",
    "### 基于惩罚项的特征选择法"
   ]
  },
  {
   "cell_type": "code",
   "execution_count": 43,
   "metadata": {},
   "outputs": [
    {
     "data": {
      "text/plain": [
       "(77, 19)"
      ]
     },
     "execution_count": 43,
     "metadata": {},
     "output_type": "execute_result"
    }
   ],
   "source": [
    "from sklearn.feature_selection import SelectFromModel\n",
    "from sklearn.linear_model import LogisticRegression\n",
    "\n",
    "feature_selected = SelectFromModel(LogisticRegression(penalty=\"l1\", C=0.001)).fit_transform(feature, label)\n",
    "np.shape(feature_selected)"
   ]
  },
  {
   "cell_type": "code",
   "execution_count": 44,
   "metadata": {},
   "outputs": [
    {
     "name": "stdout",
     "output_type": "stream",
     "text": [
      "\n",
      "正确率: 77/77 = 100.0000%\n",
      "错误率:  0/77 = 0.0000%\n"
     ]
    },
    {
     "name": "stderr",
     "output_type": "stream",
     "text": [
      "D:\\Program Soft\\Anaconda\\Anaconda3\\lib\\site-packages\\sklearn\\utils\\validation.py:429: DataConversionWarning: Data with input dtype int64 was converted to float64 by StandardScaler.\n",
      "  warnings.warn(msg, _DataConversionWarning)\n"
     ]
    }
   ],
   "source": [
    "SVM_Train(feature_selected, label, kernel='linear')"
   ]
  },
  {
   "cell_type": "markdown",
   "metadata": {},
   "source": [
    "### 基于树模型的特征选择法"
   ]
  },
  {
   "cell_type": "code",
   "execution_count": 36,
   "metadata": {},
   "outputs": [
    {
     "data": {
      "text/plain": [
       "(77, 56)"
      ]
     },
     "execution_count": 36,
     "metadata": {},
     "output_type": "execute_result"
    }
   ],
   "source": [
    "from sklearn.ensemble import GradientBoostingClassifier\n",
    "\n",
    "feature_selected = SelectFromModel(GradientBoostingClassifier()).fit_transform(feature, label)\n",
    "np.shape(feature_selected)"
   ]
  },
  {
   "cell_type": "code",
   "execution_count": 37,
   "metadata": {},
   "outputs": [
    {
     "name": "stdout",
     "output_type": "stream",
     "text": [
      "\n",
      "正确率: 76/77 = 98.7013%\n",
      "错误率:  1/77 = 1.2987%\n"
     ]
    },
    {
     "name": "stderr",
     "output_type": "stream",
     "text": [
      "D:\\Program Soft\\Anaconda\\Anaconda3\\lib\\site-packages\\sklearn\\utils\\validation.py:429: DataConversionWarning: Data with input dtype int64 was converted to float64 by StandardScaler.\n",
      "  warnings.warn(msg, _DataConversionWarning)\n"
     ]
    }
   ],
   "source": [
    "SVM_Train(feature_selected, label, kernel='linear')"
   ]
  },
  {
   "cell_type": "markdown",
   "metadata": {},
   "source": [
    "## 降维 PCA"
   ]
  },
  {
   "cell_type": "code",
   "execution_count": 83,
   "metadata": {
    "collapsed": true
   },
   "outputs": [],
   "source": [
    "from sklearn.decomposition import PCA\n",
    "\n",
    "def SVM_Train_PCA(feature, label, n_components):\n",
    "    n, m = np.shape(feature)\n",
    "\n",
    "    ss = StandardScaler()\n",
    "    feature_ss = ss.fit_transform(feature)\n",
    "\n",
    "    estimator = PCA(n_components)\n",
    "    feature_pca = estimator.fit_transform(feature_ss)\n",
    "\n",
    "    acc_sum = 0\n",
    "    k = 1\n",
    "\n",
    "    cv = cross_validation.LeaveOneOut(n=len(feature_pca))\n",
    "    for train_index, test_index in cv:\n",
    "        feature_train, feature_test = feature_pca[train_index,:], feature_pca[test_index,:]\n",
    "        label_train, label_test = label[train_index], label[test_index]\n",
    "\n",
    "        svm_model = svm.SVC(kernel='linear')\n",
    "        svm_model.fit(feature_train, label_train)\n",
    "        label_predict = svm_model.predict(feature_test)\n",
    "\n",
    "        acc = svm_model.score(feature_test, label_test)\n",
    "        acc_sum += acc\n",
    "\n",
    "        k += 1\n",
    "\n",
    "    acc_average = acc_sum/n\n",
    "    print('维度:%d 正确率: %d/%d = %.6f' % (n_components, acc_sum, n, acc_average))\n",
    "    return acc_average"
   ]
  },
  {
   "cell_type": "code",
   "execution_count": 199,
   "metadata": {
    "scrolled": false
   },
   "outputs": [
    {
     "name": "stderr",
     "output_type": "stream",
     "text": [
      "D:\\Program Soft\\Anaconda\\Anaconda3\\lib\\site-packages\\sklearn\\utils\\validation.py:429: DataConversionWarning: Data with input dtype int64 was converted to float64 by StandardScaler.\n",
      "  warnings.warn(msg, _DataConversionWarning)\n"
     ]
    },
    {
     "name": "stdout",
     "output_type": "stream",
     "text": [
      "维度:1 正确率: 58/77 = 0.753247\n",
      "维度:2 正确率: 58/77 = 0.753247\n",
      "维度:3 正确率: 58/77 = 0.753247\n",
      "维度:4 正确率: 59/77 = 0.766234\n",
      "维度:5 正确率: 58/77 = 0.753247\n",
      "维度:6 正确率: 71/77 = 0.922078\n",
      "维度:7 正确率: 69/77 = 0.896104\n",
      "维度:8 正确率: 66/77 = 0.857143\n",
      "维度:9 正确率: 68/77 = 0.883117\n",
      "维度:10 正确率: 68/77 = 0.883117\n",
      "维度:11 正确率: 69/77 = 0.896104\n",
      "维度:12 正确率: 68/77 = 0.883117\n",
      "维度:13 正确率: 68/77 = 0.883117\n",
      "维度:14 正确率: 66/77 = 0.857143\n",
      "维度:15 正确率: 64/77 = 0.831169\n",
      "维度:16 正确率: 66/77 = 0.857143\n",
      "维度:17 正确率: 66/77 = 0.857143\n",
      "维度:18 正确率: 68/77 = 0.883117\n",
      "维度:19 正确率: 67/77 = 0.870130\n",
      "维度:20 正确率: 66/77 = 0.857143\n",
      "维度:21 正确率: 66/77 = 0.857143\n",
      "维度:22 正确率: 64/77 = 0.831169\n",
      "维度:23 正确率: 66/77 = 0.857143\n",
      "维度:24 正确率: 63/77 = 0.818182\n",
      "维度:25 正确率: 63/77 = 0.818182\n",
      "维度:26 正确率: 63/77 = 0.818182\n",
      "维度:27 正确率: 66/77 = 0.857143\n",
      "维度:28 正确率: 67/77 = 0.870130\n",
      "维度:29 正确率: 68/77 = 0.883117\n",
      "维度:30 正确率: 67/77 = 0.870130\n",
      "维度:31 正确率: 68/77 = 0.883117\n",
      "维度:32 正确率: 65/77 = 0.844156\n",
      "维度:33 正确率: 68/77 = 0.883117\n",
      "维度:34 正确率: 66/77 = 0.857143\n",
      "维度:35 正确率: 66/77 = 0.857143\n",
      "维度:36 正确率: 68/77 = 0.883117\n",
      "维度:37 正确率: 66/77 = 0.857143\n",
      "维度:38 正确率: 68/77 = 0.883117\n",
      "维度:39 正确率: 68/77 = 0.883117\n",
      "维度:40 正确率: 68/77 = 0.883117\n",
      "维度:41 正确率: 69/77 = 0.896104\n",
      "维度:42 正确率: 68/77 = 0.883117\n",
      "维度:43 正确率: 69/77 = 0.896104\n",
      "维度:44 正确率: 67/77 = 0.870130\n",
      "维度:45 正确率: 67/77 = 0.870130\n",
      "维度:46 正确率: 67/77 = 0.870130\n",
      "维度:47 正确率: 69/77 = 0.896104\n",
      "维度:48 正确率: 68/77 = 0.883117\n",
      "维度:49 正确率: 67/77 = 0.870130\n",
      "维度:50 正确率: 67/77 = 0.870130\n",
      "维度:51 正确率: 67/77 = 0.870130\n",
      "维度:52 正确率: 67/77 = 0.870130\n",
      "维度:53 正确率: 67/77 = 0.870130\n",
      "维度:54 正确率: 67/77 = 0.870130\n",
      "维度:55 正确率: 67/77 = 0.870130\n",
      "维度:56 正确率: 67/77 = 0.870130\n",
      "维度:57 正确率: 68/77 = 0.883117\n",
      "维度:58 正确率: 69/77 = 0.896104\n",
      "维度:59 正确率: 70/77 = 0.909091\n",
      "维度:60 正确率: 68/77 = 0.883117\n",
      "维度:61 正确率: 71/77 = 0.922078\n",
      "维度:62 正确率: 69/77 = 0.896104\n",
      "维度:63 正确率: 69/77 = 0.896104\n",
      "维度:64 正确率: 68/77 = 0.883117\n",
      "维度:65 正确率: 68/77 = 0.883117\n",
      "维度:66 正确率: 70/77 = 0.909091\n",
      "维度:67 正确率: 70/77 = 0.909091\n",
      "维度:68 正确率: 70/77 = 0.909091\n",
      "维度:69 正确率: 70/77 = 0.909091\n",
      "维度:70 正确率: 69/77 = 0.896104\n",
      "维度:71 正确率: 74/77 = 0.961039\n",
      "维度:72 正确率: 74/77 = 0.961039\n",
      "维度:73 正确率: 74/77 = 0.961039\n",
      "维度:74 正确率: 74/77 = 0.961039\n",
      "维度:75 正确率: 74/77 = 0.961039\n",
      "维度:76 正确率: 74/77 = 0.961039\n",
      "维度:77 正确率: 74/77 = 0.961039\n",
      "维度:78 正确率: 74/77 = 0.961039\n",
      "维度:79 正确率: 74/77 = 0.961039\n",
      "维度:80 正确率: 74/77 = 0.961039\n",
      "最大正确率:0.961039 维度:71\n"
     ]
    }
   ],
   "source": [
    "Sup = 80\n",
    "acc_max = 0\n",
    "max_index = 0\n",
    "\n",
    "acc_pca = np.zeros(Sup+1)\n",
    "for k in range(1,Sup+1):\n",
    "    acc = SVM_Train_PCA(feature, label, k)\n",
    "    acc_pca[k] = acc\n",
    "    if acc > acc_max:\n",
    "        acc_max, max_index = acc, k\n",
    "\n",
    "print('最大正确率:%f 维度:%d' % (acc_max, max_index))"
   ]
  },
  {
   "cell_type": "markdown",
   "metadata": {},
   "source": [
    "### 折线图"
   ]
  },
  {
   "cell_type": "code",
   "execution_count": 200,
   "metadata": {
    "scrolled": false
   },
   "outputs": [
    {
     "data": {
      "image/png": "[encoded data removed]",
      "text/plain": [
       "<matplotlib.figure.Figure at 0x193d68d1b38>"
      ]
     },
     "metadata": {},
     "output_type": "display_data"
    }
   ],
   "source": [
    "import matplotlib.pyplot as plt\n",
    "import seaborn as sns\n",
    "\n",
    "xi = range(1,Sup+1)\n",
    "plt.figure(figsize=(15,8))\n",
    "plt.plot(xi, acc_pca[1:], '.-')\n",
    "plt.xticks(range(0,90,10))\n",
    "plt.ylim(0.7, 1.0)\n",
    "plt.grid(True)\n",
    "plt.show()"
   ]
  },
  {
   "cell_type": "markdown",
   "metadata": {},
   "source": [
    "## 对数化后特征筛选"
   ]
  },
  {
   "cell_type": "markdown",
   "metadata": {},
   "source": [
    "## Filter\n",
    "### 卡方检验"
   ]
  },
  {
   "cell_type": "code",
   "execution_count": 195,
   "metadata": {},
   "outputs": [
    {
     "data": {
      "text/plain": [
       "(77, 4)"
      ]
     },
     "execution_count": 195,
     "metadata": {},
     "output_type": "execute_result"
    }
   ],
   "source": [
    "from sklearn.feature_selection import SelectKBest\n",
    "from sklearn.feature_selection import chi2\n",
    "\n",
    "feature_selected = SelectKBest(chi2, k=4).fit_transform(feature_log, label)\n",
    "np.shape(feature_selected)"
   ]
  },
  {
   "cell_type": "code",
   "execution_count": 196,
   "metadata": {
    "scrolled": true
   },
   "outputs": [
    {
     "name": "stdout",
     "output_type": "stream",
     "text": [
      "\n",
      "正确率: 74/77 = 96.1039%\n",
      "错误率:  3/77 = 3.8961%\n"
     ]
    }
   ],
   "source": [
    "SVM_Train(feature_selected, label, kernel='linear')"
   ]
  },
  {
   "cell_type": "markdown",
   "metadata": {},
   "source": [
    "## Embedded 集成法\n",
    "### 基于惩罚项的特征选择法"
   ]
  },
  {
   "cell_type": "code",
   "execution_count": 105,
   "metadata": {},
   "outputs": [
    {
     "data": {
      "text/plain": [
       "(77, 33)"
      ]
     },
     "execution_count": 105,
     "metadata": {},
     "output_type": "execute_result"
    }
   ],
   "source": [
    "from sklearn.feature_selection import SelectFromModel\n",
    "from sklearn.linear_model import LogisticRegression\n",
    "\n",
    "feature_selected = SelectFromModel(LogisticRegression(penalty=\"l1\", C=0.25)).fit_transform(feature_log, label)\n",
    "np.shape(feature_selected)"
   ]
  },
  {
   "cell_type": "code",
   "execution_count": 106,
   "metadata": {},
   "outputs": [
    {
     "name": "stdout",
     "output_type": "stream",
     "text": [
      "\n",
      "正确率: 77/77 = 100.0000%\n",
      "错误率:  0/77 = 0.0000%\n"
     ]
    }
   ],
   "source": [
    "SVM_Train(feature_selected, label, kernel='linear')"
   ]
  },
  {
   "cell_type": "markdown",
   "metadata": {},
   "source": [
    "### 基于树模型的特征选择"
   ]
  },
  {
   "cell_type": "code",
   "execution_count": 113,
   "metadata": {},
   "outputs": [
    {
     "data": {
      "text/plain": [
       "(77, 57)"
      ]
     },
     "execution_count": 113,
     "metadata": {},
     "output_type": "execute_result"
    }
   ],
   "source": [
    "from sklearn.ensemble import GradientBoostingClassifier\n",
    "\n",
    "feature_selected = SelectFromModel(GradientBoostingClassifier()).fit_transform(feature_log, label)\n",
    "np.shape(feature_selected)"
   ]
  },
  {
   "cell_type": "code",
   "execution_count": 114,
   "metadata": {},
   "outputs": [
    {
     "name": "stdout",
     "output_type": "stream",
     "text": [
      "\n",
      "正确率: 76/77 = 98.7013%\n",
      "错误率:  1/77 = 1.2987%\n"
     ]
    }
   ],
   "source": [
    "SVM_Train(feature_selected, label, kernel='linear')"
   ]
  },
  {
   "cell_type": "markdown",
   "metadata": {},
   "source": [
    "## 降维PCA(log化后)"
   ]
  },
  {
   "cell_type": "code",
   "execution_count": 115,
   "metadata": {
    "collapsed": true
   },
   "outputs": [],
   "source": [
    "from sklearn.decomposition import PCA\n",
    "\n",
    "def SVM_Train_PCA(feature, label, n_components):\n",
    "    n, m = np.shape(feature)\n",
    "\n",
    "    ss = StandardScaler()\n",
    "    feature_ss = ss.fit_transform(feature)\n",
    "\n",
    "    estimator = PCA(n_components)\n",
    "    feature_pca = estimator.fit_transform(feature_ss)\n",
    "\n",
    "    acc_sum = 0\n",
    "    k = 1\n",
    "\n",
    "    cv = cross_validation.LeaveOneOut(n=len(feature_pca))\n",
    "    for train_index, test_index in cv:\n",
    "        feature_train, feature_test = feature_pca[train_index,:], feature_pca[test_index,:]\n",
    "        label_train, label_test = label[train_index], label[test_index]\n",
    "\n",
    "        svm_model = svm.SVC(kernel='linear')\n",
    "        svm_model.fit(feature_train, label_train)\n",
    "        label_predict = svm_model.predict(feature_test)\n",
    "\n",
    "        acc = svm_model.score(feature_test, label_test)\n",
    "        acc_sum += acc\n",
    "\n",
    "        k += 1\n",
    "\n",
    "    acc_average = acc_sum/n\n",
    "    print('维度:%d 正确率: %d/%d = %.6f' % (n_components, acc_sum, n, acc_average))\n",
    "    return acc_average"
   ]
  },
  {
   "cell_type": "code",
   "execution_count": 121,
   "metadata": {},
   "outputs": [
    {
     "name": "stdout",
     "output_type": "stream",
     "text": [
      "维度:1 正确率: 58/77 = 0.753247\n",
      "维度:2 正确率: 58/77 = 0.753247\n",
      "维度:3 正确率: 58/77 = 0.753247\n",
      "维度:4 正确率: 62/77 = 0.805195\n",
      "维度:5 正确率: 66/77 = 0.857143\n",
      "维度:6 正确率: 71/77 = 0.922078\n",
      "维度:7 正确率: 69/77 = 0.896104\n",
      "维度:8 正确率: 68/77 = 0.883117\n",
      "维度:9 正确率: 67/77 = 0.870130\n",
      "维度:10 正确率: 68/77 = 0.883117\n",
      "维度:11 正确率: 67/77 = 0.870130\n",
      "维度:12 正确率: 68/77 = 0.883117\n",
      "维度:13 正确率: 70/77 = 0.909091\n",
      "维度:14 正确率: 67/77 = 0.870130\n",
      "维度:15 正确率: 69/77 = 0.896104\n",
      "维度:16 正确率: 67/77 = 0.870130\n",
      "维度:17 正确率: 68/77 = 0.883117\n",
      "维度:18 正确率: 69/77 = 0.896104\n",
      "维度:19 正确率: 68/77 = 0.883117\n",
      "维度:20 正确率: 66/77 = 0.857143\n",
      "维度:21 正确率: 67/77 = 0.870130\n",
      "维度:22 正确率: 65/77 = 0.844156\n",
      "维度:23 正确率: 65/77 = 0.844156\n",
      "维度:24 正确率: 66/77 = 0.857143\n",
      "维度:25 正确率: 66/77 = 0.857143\n",
      "维度:26 正确率: 64/77 = 0.831169\n",
      "维度:27 正确率: 67/77 = 0.870130\n",
      "维度:28 正确率: 70/77 = 0.909091\n",
      "维度:29 正确率: 72/77 = 0.935065\n",
      "维度:30 正确率: 73/77 = 0.948052\n",
      "维度:31 正确率: 73/77 = 0.948052\n",
      "维度:32 正确率: 71/77 = 0.922078\n",
      "维度:33 正确率: 72/77 = 0.935065\n",
      "维度:34 正确率: 72/77 = 0.935065\n",
      "维度:35 正确率: 71/77 = 0.922078\n",
      "维度:36 正确率: 73/77 = 0.948052\n",
      "维度:37 正确率: 71/77 = 0.922078\n",
      "维度:38 正确率: 74/77 = 0.961039\n",
      "维度:39 正确率: 74/77 = 0.961039\n",
      "维度:40 正确率: 73/77 = 0.948052\n",
      "维度:41 正确率: 73/77 = 0.948052\n",
      "维度:42 正确率: 75/77 = 0.974026\n",
      "维度:43 正确率: 73/77 = 0.948052\n",
      "维度:44 正确率: 72/77 = 0.935065\n",
      "维度:45 正确率: 72/77 = 0.935065\n",
      "维度:46 正确率: 72/77 = 0.935065\n",
      "维度:47 正确率: 76/77 = 0.987013\n",
      "维度:48 正确率: 72/77 = 0.935065\n",
      "维度:49 正确率: 74/77 = 0.961039\n",
      "维度:50 正确率: 75/77 = 0.974026\n",
      "维度:51 正确率: 73/77 = 0.948052\n",
      "维度:52 正确率: 73/77 = 0.948052\n",
      "维度:53 正确率: 71/77 = 0.922078\n",
      "维度:54 正确率: 74/77 = 0.961039\n",
      "维度:55 正确率: 75/77 = 0.974026\n",
      "维度:56 正确率: 74/77 = 0.961039\n",
      "维度:57 正确率: 74/77 = 0.961039\n",
      "维度:58 正确率: 75/77 = 0.974026\n",
      "维度:59 正确率: 76/77 = 0.987013\n",
      "维度:60 正确率: 74/77 = 0.961039\n",
      "维度:61 正确率: 75/77 = 0.974026\n",
      "维度:62 正确率: 75/77 = 0.974026\n",
      "维度:63 正确率: 74/77 = 0.961039\n",
      "维度:64 正确率: 75/77 = 0.974026\n",
      "维度:65 正确率: 75/77 = 0.974026\n",
      "维度:66 正确率: 75/77 = 0.974026\n",
      "维度:67 正确率: 74/77 = 0.961039\n",
      "维度:68 正确率: 74/77 = 0.961039\n",
      "维度:69 正确率: 74/77 = 0.961039\n",
      "维度:70 正确率: 74/77 = 0.961039\n",
      "维度:71 正确率: 74/77 = 0.961039\n",
      "维度:72 正确率: 74/77 = 0.961039\n",
      "维度:73 正确率: 75/77 = 0.974026\n",
      "维度:74 正确率: 75/77 = 0.974026\n",
      "维度:75 正确率: 74/77 = 0.961039\n",
      "维度:76 正确率: 75/77 = 0.974026\n",
      "维度:77 正确率: 75/77 = 0.974026\n",
      "维度:78 正确率: 75/77 = 0.974026\n",
      "维度:79 正确率: 75/77 = 0.974026\n",
      "维度:80 正确率: 75/77 = 0.974026\n",
      "维度:81 正确率: 75/77 = 0.974026\n",
      "维度:82 正确率: 75/77 = 0.974026\n",
      "维度:83 正确率: 75/77 = 0.974026\n",
      "维度:84 正确率: 75/77 = 0.974026\n",
      "维度:85 正确率: 75/77 = 0.974026\n",
      "维度:86 正确率: 75/77 = 0.974026\n",
      "维度:87 正确率: 75/77 = 0.974026\n",
      "维度:88 正确率: 75/77 = 0.974026\n",
      "维度:89 正确率: 75/77 = 0.974026\n",
      "维度:90 正确率: 75/77 = 0.974026\n",
      "维度:91 正确率: 75/77 = 0.974026\n",
      "维度:92 正确率: 75/77 = 0.974026\n",
      "维度:93 正确率: 75/77 = 0.974026\n",
      "维度:94 正确率: 75/77 = 0.974026\n",
      "维度:95 正确率: 75/77 = 0.974026\n",
      "维度:96 正确率: 75/77 = 0.974026\n",
      "维度:97 正确率: 75/77 = 0.974026\n",
      "维度:98 正确率: 75/77 = 0.974026\n",
      "维度:99 正确率: 75/77 = 0.974026\n",
      "维度:100 正确率: 75/77 = 0.974026\n",
      "最大正确率:0.987013 维度:47\n"
     ]
    }
   ],
   "source": [
    "Sup = 100\n",
    "acc_max = 0\n",
    "max_index = 0\n",
    "\n",
    "acc_pca = np.zeros(Sup+1)\n",
    "for k in range(1,Sup+1):\n",
    "    acc = SVM_Train_PCA(feature_log, label, k)\n",
    "    acc_pca[k] = acc\n",
    "    if acc > acc_max:\n",
    "        acc_max, max_index = acc, k\n",
    "\n",
    "print('最大正确率:%f 维度:%d' % (acc_max, max_index))"
   ]
  },
  {
   "cell_type": "code",
   "execution_count": 122,
   "metadata": {
    "scrolled": false
   },
   "outputs": [
    {
     "data": {
      "image/png": "[encoded data removed]",
      "text/plain": [
       "<matplotlib.figure.Figure at 0x193d5b893c8>"
      ]
     },
     "metadata": {},
     "output_type": "display_data"
    }
   ],
   "source": [
    "import matplotlib.pyplot as plt\n",
    "import seaborn as sns\n",
    "\n",
    "xi = range(1,Sup+1)\n",
    "plt.figure(figsize=(15,8))\n",
    "plt.plot(xi, acc_pca[1:], '.-')\n",
    "plt.xticks(range(0,110,10))\n",
    "plt.ylim(0.7, 1.0)\n",
    "plt.grid(True)\n",
    "plt.show()"
   ]
  }
 ],
 "metadata": {
  "kernelspec": {
   "display_name": "Python 3",
   "language": "python",
   "name": "python3"
  },
  "language_info": {
   "codemirror_mode": {
    "name": "ipython",
    "version": 3
   },
   "file_extension": ".py",
   "mimetype": "text/x-python",
   "name": "python",
   "nbconvert_exporter": "python",
   "pygments_lexer": "ipython3",
   "version": "3.6.3"
  }
 },
 "nbformat": 4,
 "nbformat_minor": 2
}
